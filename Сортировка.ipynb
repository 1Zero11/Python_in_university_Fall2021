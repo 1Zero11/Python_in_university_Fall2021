{
 "cells": [
  {
   "cell_type": "markdown",
   "source": [
    "Задача 1. Возрастает ли список\r\n",
    "Дан список. Определите, является ли он монотонно возрастающим. Выведите YES, если массив монотонно возрастает и NO в противном случае.\r\n"
   ],
   "metadata": {}
  },
  {
   "cell_type": "code",
   "execution_count": 4,
   "source": [
    "lst = list(map(int,input().split()))\r\n",
    "\r\n",
    "output = \"YES\"\r\n",
    "\r\n",
    "for i in range(len(lst)-1):\r\n",
    "    if lst[i]>lst[i+1]:\r\n",
    "        output = \"NO\"\r\n",
    "        break\r\n",
    "print(output)"
   ],
   "outputs": [
    {
     "output_type": "stream",
     "name": "stdout",
     "text": [
      "NO\n"
     ]
    }
   ],
   "metadata": {}
  },
  {
   "cell_type": "markdown",
   "source": [
    "Задача 2. Последний максимум\r\n",
    "Найдите наибольшее значение в списке и индекс последнего элемента, который имеет данное значение за один проход по списку, не модифицируя этот список и не используя дополнительного списка. Выведите два значения.\r\n"
   ],
   "metadata": {}
  },
  {
   "cell_type": "code",
   "execution_count": 5,
   "source": [
    "lst = list(map(int,input().split()))\r\n",
    "\r\n",
    "maximum = min(lst)\r\n",
    "maxindex = 0\r\n",
    "\r\n",
    "for i in range(len(lst)):\r\n",
    "    if lst[i]>=maximum:\r\n",
    "        maximum = lst[i]\r\n",
    "        maxindex = i\r\n",
    "\r\n",
    "print(maximum)\r\n",
    "print(maxindex)"
   ],
   "outputs": [
    {
     "output_type": "stream",
     "name": "stdout",
     "text": [
      "5\n",
      "6\n"
     ]
    }
   ],
   "metadata": {}
  },
  {
   "cell_type": "markdown",
   "source": [
    "Задача 3. Ближайшее число.\r\n",
    "Напишите программу, которая находит в массиве элемент, самый близкий по величине к  данному числу. \r\n",
    "Формат ввода: В первой строке задается одно натуральное число N, не превосходящее 1000 – размер массива. Во второй строке содержатся N чисел – элементы массива (целые числа, не превосходящие по модулю 1000). В третьей строке вводится одно целое число x, не превосходящее по модулю 1000. \r\n",
    "Формат вывода: Вывести значение элемента массива, ближайшее к x. Если таких чисел несколько, выведите любое из них. \r\n",
    "Пример ввода:                                               Пример вывода:\r\n",
    "5                                                                      5\r\n",
    "1 2 3 4 5\r\n",
    "6\r\n",
    "Пример ввода:                                               Пример вывода:\r\n",
    "5                                                                      3\r\n",
    "5 4 3 2 1\r\n",
    "3\r\n"
   ],
   "metadata": {}
  },
  {
   "cell_type": "code",
   "execution_count": 7,
   "source": [
    "N = int(input())\r\n",
    "lst = list(map(int,input().split()))\r\n",
    "x = int(input())\r\n",
    "\r\n",
    "bestmatch = 0\r\n",
    "\r\n",
    "for i in range(len(lst)):\r\n",
    "    if abs(lst[i]-x)<abs(bestmatch-x):\r\n",
    "        bestmatch = lst[i]\r\n",
    "\r\n",
    "print(bestmatch)"
   ],
   "outputs": [
    {
     "output_type": "stream",
     "name": "stdout",
     "text": [
      "5\n"
     ]
    }
   ],
   "metadata": {}
  },
  {
   "cell_type": "markdown",
   "source": [
    "Задача 4. Наибольшее произведение трех чисел\r\n",
    "В данном списке из n целых чисел найдите три числа,произведение которых максимально. Решение должно иметь сложность O(n), где n - размер списка.\r\n",
    "Выведите три искомых числа в любом порядке.\r\n"
   ],
   "metadata": {}
  },
  {
   "cell_type": "code",
   "execution_count": 10,
   "source": [
    "lst = list(map(int,input().split()))\r\n",
    "\r\n",
    "neglist = [0, 0]\r\n",
    "posmax = 0\r\n",
    "\r\n",
    "poslist = [0, 0 ,0]\r\n",
    "\r\n",
    "for i in lst:\r\n",
    "    if i>min(poslist):\r\n",
    "        poslist[poslist.index(min(poslist))] = i\r\n",
    "    \r\n",
    "    if i>=0 and i>posmax:\r\n",
    "        posmax = i\r\n",
    "    elif i<=0 and i<max(neglist):\r\n",
    "        neglist[neglist.index(max(neglist))] = i\r\n",
    "\r\n",
    "print(max(posmax*neglist[0]*neglist[1],\r\n",
    "             poslist[0]*poslist[1]*poslist[2]))\r\n"
   ],
   "outputs": [
    {
     "output_type": "stream",
     "name": "stdout",
     "text": [
      "150\n"
     ]
    }
   ],
   "metadata": {}
  },
  {
   "cell_type": "markdown",
   "source": [
    "Задача 5. Сортировка подсчетом\r\n",
    "Дан список из N элементов,которые принимают целые значения от 0 до 10.\r\n",
    "Отсортируйте этот список в порядке неубывания элементов. Выведите полученный список.\r\n",
    "Решение оформите в виде функции CountSort(A), которая модифицирует передаваемый ей список. Использовать встроенные функции сортировки нельзя.\r\n"
   ],
   "metadata": {}
  },
  {
   "cell_type": "code",
   "execution_count": 13,
   "source": [
    "def CountSort(A):\r\n",
    "    arr = []\r\n",
    "    for i in range(11):\r\n",
    "        arr.append(0)\r\n",
    "\r\n",
    "    for i in A:\r\n",
    "        arr[i] += 1\r\n",
    "\r\n",
    "    output = []\r\n",
    "    for i in range(len(arr)):\r\n",
    "        for j in range(arr[i]):\r\n",
    "            output.append(i)\r\n",
    "    return output\r\n",
    "\r\n",
    "lst = list(map(int,input().split()))\r\n",
    "print(CountSort(lst))"
   ],
   "outputs": [
    {
     "output_type": "stream",
     "name": "stdout",
     "text": [
      "[0, 1, 1, 2, 3, 4, 4, 6, 7, 8, 9, 10]\n"
     ]
    }
   ],
   "metadata": {}
  },
  {
   "cell_type": "markdown",
   "source": [
    "Задача 6. Создание архива\r\n",
    "Системный администратор вспомнил, что давно не делал архива пользовательских файлов.Однако, объем диска, куда он может поместить архив, может быть меньше чем суммарный объем архивируемых файлов.\r\n",
    "Известно, какой объем занимают файлы каждого пользователя.\r\n",
    "Напишите программу, которая по заданной информации о пользователях и свободному объему на архивном диске определит максимальное число пользователей, чьи данные можно поместить в архив, при этом используя свободное место как можно более полно.\r\n",
    "Формат ввода:\r\n",
    "Программа получает на вход в одной строке число S – размер свободного места на диске (натуральное, не превышает 10000), и число N – количество пользователей (натуральное, не превышает 100), после этого идет N чисел - объем данных каждого пользователя (натуральное, не превышает 1000), записанных каждое в отдельной строке.\r\n",
    "Формат вывода:\r\n",
    "Выведите наибольшее количество пользователей, чьи данные могут быть помещены в архив. \r\n"
   ],
   "metadata": {}
  },
  {
   "cell_type": "code",
   "execution_count": 15,
   "source": [
    "S = int(input())\r\n",
    "N = int(input())\r\n",
    "lst = list(map(int,input().split()))\r\n",
    "\r\n",
    "lst.sort()\r\n",
    "\r\n",
    "sum = 0\r\n",
    "count = 0\r\n",
    "\r\n",
    "for i in range(len(lst)):\r\n",
    "    if sum+lst[i]<= S:\r\n",
    "        sum+=lst[i]\r\n",
    "        count +=1\r\n",
    "    else:\r\n",
    "        break\r\n",
    "\r\n",
    "print(count)\r\n",
    "\r\n"
   ],
   "outputs": [
    {
     "output_type": "stream",
     "name": "stdout",
     "text": [
      "4\n"
     ]
    }
   ],
   "metadata": {}
  },
  {
   "cell_type": "markdown",
   "source": [
    "Задача 7. Результаты олимпиады\r\n",
    "В олимпиаде участвовало N человек. Каждый получил определенное количество баллов, при этом оказалось,что у всех участников — разное число баллов.\r\n",
    "Упорядочите список участников олимпиады в порядке убывания набранных баллов.\r\n",
    "Формат ввода:\r\n",
    "Программа получает на вход число участников олимпиады N. Далее идет N строк, в каждой строке записана фамилия участника, затем, через пробел, набранное им количество баллов.\r\n",
    "Формат вывода:\r\n",
    "Выведите список участников (только фамилии) в порядке убывания набранных баллов.\r\n",
    "Пример ввода: \r\n",
    "3                                                      \r\n",
    "Иванов 15                      \r\n",
    "Петров 10\r\n",
    "Сидоров 20\r\n",
    "Пример вывода:\r\n",
    "Сидоров\r\n",
    "Иванов\r\n",
    "Петров\r\n"
   ],
   "metadata": {}
  },
  {
   "cell_type": "code",
   "execution_count": 17,
   "source": [
    "N = int(input())\r\n",
    "dictionary = {}\r\n",
    "for i in range(N):\r\n",
    "    lst = input().split()\r\n",
    "    dictionary[lst[0]] = int(lst[1])\r\n",
    "\r\n",
    "names = dict(sorted(dictionary.items(), reverse= True, key=lambda item: item[1])).keys()\r\n",
    "\r\n",
    "for s in names:\r\n",
    "    print(s)"
   ],
   "outputs": [
    {
     "output_type": "stream",
     "name": "stdout",
     "text": [
      "Сидоров\n",
      "Иванов\n",
      "Петров\n"
     ]
    }
   ],
   "metadata": {}
  },
  {
   "cell_type": "markdown",
   "source": [
    "Задача 8. Пересечение множеств\r\n",
    "Даны два списка, упорядоченных по возрастанию (каждый список состоит из различных элементов).Найдите пересечение множеств элементов этих списков, то есть те числа, которые являются элементами обоих списков. Алгоритм должен иметь сложность O(len(A)+len(B)).\r\n",
    "Решение оформите в виде функции Intersection(A, B).Функция должна возвращать список пересечения данных списков в порядке возрастания элементов.Модифицировать исходные списки запрещается.\r\n",
    "Формат ввода: Программа получает на вход два возрастающих списка, каждый в отдельной строке. \r\n",
    "Формат вывода: Программа должна вывести последовательность возрастающих чисел,являющихся элементами обоих списков. \r\n",
    "\r\n"
   ],
   "metadata": {}
  },
  {
   "cell_type": "code",
   "execution_count": 20,
   "source": [
    "def Intersection(A, B):\r\n",
    "    return list(set(A) & set(B))\r\n",
    "\r\n",
    "lst1 = list(map(int,input().split()))\r\n",
    "lst2 = list(map(int,input().split()))\r\n",
    "\r\n",
    "print(Intersection(lst1, lst2))"
   ],
   "outputs": [
    {
     "output_type": "stream",
     "name": "stdout",
     "text": [
      "[1, 4, 6]\n"
     ]
    }
   ],
   "metadata": {}
  },
  {
   "cell_type": "markdown",
   "source": [
    "Задача 9. Максимальный балл по классам\r\n",
    "В олимпиаде по информатике принимало участие несколько человек. Победителем олимпиады становится человек, набравший больше всех баллов. Победители определяются независимо по каждому классу. Определите количество баллов, которое набрал победитель в каждом классе. Гарантируется, что в каждом классе был хотя бы один участник. \r\n",
    "Формат ввода: \r\n",
    "Информация о результатах олимпиады записана в файле, каждая строка которого имеет вид: фамилия имя класс балл.\r\n",
    "Фамилия и имя — текстовые строки, не содержащие пробелов. Класс - одно из трех чисел 9, 10, 11. Балл - целое число от 0 до 100.\r\n",
    "В этой задаче файл необходимо считывать построчно, не сохраняя содержимое файла в памяти целиком.\r\n",
    "Формат вывода: \r\n",
    "Выведите три числа: баллы победителя олимпиады по 9 классу, по 10 классу, по 11 классу. Входной файл в кодировке utf-8 (В Python используйте open('input.txt', 'r', encoding='utf-8')). \r\n",
    "Пример ввода:\r\n",
    "Иванов Сергей 9 90\r\n",
    "Сергеев Петр 10 91\r\n",
    "Петров Василий 11 92\r\n",
    "Васильев Иван 9 93\r\n",
    "Пример вывода:\r\n",
    "93  91  92\r\n"
   ],
   "metadata": {}
  },
  {
   "cell_type": "code",
   "execution_count": 27,
   "source": [
    "f = open('input.txt', 'r', encoding='utf-8')\r\n",
    "scores = [0,0,0]\r\n",
    "while (line := f.readline().rstrip().split()):\r\n",
    "    if(scores[int(line[2])-9] < int(line[3])):\r\n",
    "        scores[int(line[2])-9] = int(line[3])\r\n",
    "\r\n",
    "\r\n",
    "print(' '.join(map(str,scores)))"
   ],
   "outputs": [
    {
     "output_type": "stream",
     "name": "stdout",
     "text": [
      "93 91 92\n"
     ]
    }
   ],
   "metadata": {}
  },
  {
   "cell_type": "markdown",
   "source": [
    "Задача 10. Средний балл по классам\r\n",
    "В условиях предыдущей задачи определите и выведите средние баллы участников олимпиады в 9 классе, в 10 классе, в 11 классе. \r\n",
    "Пример ввода:\r\n",
    "Иванов Сергей 9 90\r\n",
    "Сергеев Петр 10 91\r\n",
    "Петров Василий 11 92\r\n",
    "Васильев Иван 9 93\r\n",
    "Пример вывода:\r\n",
    "91.5  91.0  92.0\r\n"
   ],
   "metadata": {}
  },
  {
   "cell_type": "code",
   "execution_count": 28,
   "source": [
    "f = open('input.txt', 'r', encoding='utf-8')\r\n",
    "scores = [0,0,0]\r\n",
    "count = [0,0,0]\r\n",
    "while (line := f.readline().rstrip().split()):\r\n",
    "    scores[int(line[2])-9] += int(line[3])\r\n",
    "    count[int(line[2])-9] += 1\r\n",
    "\r\n",
    "for i in range(3):\r\n",
    "    scores[i] = scores[i]/count[i]\r\n",
    "\r\n",
    "print(' '.join(map(str,scores)))"
   ],
   "outputs": [
    {
     "output_type": "stream",
     "name": "stdout",
     "text": [
      "91.5 91.0 92.0\n"
     ]
    }
   ],
   "metadata": {}
  },
  {
   "cell_type": "markdown",
   "source": [
    "Задача 11. Максимальный балл не-победителя\r\n",
    "Зачет проводится отдельно в каждом классе. Победителями олимпиады становятся школьники, которые набрали наибольший балл среди всех участников в данном классе.\r\n",
    "Для каждого класса определите максимальный балл, который набрал школьник, не ставший победителем в данном классе.\r\n",
    "Пример ввода:\r\n",
    "Иванов Сергей 9 80\r\n",
    "Сергеев Петр 10 82\r\n",
    "Петров Василий 11 82\r\n",
    "Васильев Андрей 9 81\r\n",
    "Андреев Александр 10 81\r\n",
    "Александров Роман 9 81\r\n",
    "Романов Иван 11 83\r\n",
    "Пример вывода:\r\n",
    "80  81  82\r\n"
   ],
   "metadata": {}
  },
  {
   "cell_type": "code",
   "execution_count": 31,
   "source": [
    "f = open('input.txt', 'r', encoding='utf-8')\r\n",
    "scores = [0,0,0]\r\n",
    "secondScores = [0,0,0]\r\n",
    "while (line := f.readline().rstrip().split()):\r\n",
    "    if(scores[int(line[2])-9] < int(line[3])):\r\n",
    "        secondScores[int(line[2])-9] = scores[int(line[2])-9]\r\n",
    "        scores[int(line[2])-9] = int(line[3])\r\n",
    "    elif secondScores[int(line[2])-9] < int(line[3]) < scores[int(line[2])-9]:\r\n",
    "        secondScores[int(line[2])-9] = int(line[3])\r\n",
    "\r\n",
    "\r\n",
    "print(' '.join(map(str,secondScores)))"
   ],
   "outputs": [
    {
     "output_type": "stream",
     "name": "stdout",
     "text": [
      "80 81 82\n"
     ]
    }
   ],
   "metadata": {}
  },
  {
   "cell_type": "markdown",
   "source": [
    "Задача 12. Семипроцентный барьер\r\n",
    "В Государственную Думу Федерального Собрания Российской Федерации выборы производятся по партийным спискам. Каждый избиратель указывает одну партию, за которую он отдает свой голос. В Государственную Думу попадают партии, которые набрали не менее 7% от числа голосов избирателей.\r\n",
    "Дан список партий и список голосов избирателей. Выведите список партий, которые попадут в Государственную Думу.\r\n",
    "Формат ввода:\r\n",
    "В первой строке входного файла написано слово PARTIES:. Далее идет список партий, участвующих в выборах.\r\n",
    "Затем идет строка, содержащая слово VOTES:. За ним идут названия партий, за которые проголосовали избиратели, по одному названию в строке. Названия могут быть только строками из первого списка.\r\n",
    "Формат вывода:\r\n",
    "Программа должна вывести названия партий, получивших не менее 7% от числа голосов в том порядке, в котором они следуют в первом списке. \r\n",
    "Пример ввода:\r\n",
    "PARTIES:\r\n",
    "Party one\r\n",
    "Party two\r\n",
    "Party three\r\n",
    "VOTES:\r\n",
    "Party one\r\n",
    "Party one\r\n",
    "Party three\r\n",
    "Party one\r\n",
    "Party one\r\n",
    "Party three\r\n",
    "Party two\r\n",
    "Party one\r\n",
    "Party three\r\n",
    "Party three\r\n",
    "Party one\r\n",
    "Party one\r\n",
    "Party three\r\n",
    "Party three\r\n",
    "Party one\r\n",
    "Пример вывода:\r\n",
    "Party one\r\n",
    "Party three"
   ],
   "metadata": {}
  },
  {
   "cell_type": "code",
   "execution_count": 46,
   "source": [
    "f = open('input.txt', 'r', encoding='utf-8')\r\n",
    "\r\n",
    "parties = {}\r\n",
    "f.readline()\r\n",
    "\r\n",
    "while (line := f.readline().rstrip()):\r\n",
    "    if line == 'VOTES:':\r\n",
    "        break\r\n",
    "    parties[line] = 0\r\n",
    "\r\n",
    "sum = 0\r\n",
    "\r\n",
    "while (line := f.readline().rstrip()):\r\n",
    "    parties[line] += 1\r\n",
    "    sum += 1\r\n",
    "\r\n",
    "for key in parties.keys():\r\n",
    "    parties[key] = parties[key]/sum\r\n",
    "\r\n",
    "\r\n",
    "names = dict(filter(lambda elem: elem[1] > 0.07, parties.items())).keys()\r\n",
    "\r\n",
    "for s in names:\r\n",
    "    print(s)"
   ],
   "outputs": [
    {
     "output_type": "stream",
     "name": "stdout",
     "text": [
      "Party one\n"
     ]
    }
   ],
   "metadata": {}
  }
 ],
 "metadata": {
  "orig_nbformat": 4,
  "language_info": {
   "name": "python",
   "version": "3.9.7",
   "mimetype": "text/x-python",
   "codemirror_mode": {
    "name": "ipython",
    "version": 3
   },
   "pygments_lexer": "ipython3",
   "nbconvert_exporter": "python",
   "file_extension": ".py"
  },
  "kernelspec": {
   "name": "python3",
   "display_name": "Python 3.9.7 64-bit ('venv': venv)"
  },
  "interpreter": {
   "hash": "30fc671ee31657b89ca62a1a3aacc4bc1c1d3331bade81200542509f75df2d34"
  }
 },
 "nbformat": 4,
 "nbformat_minor": 2
}