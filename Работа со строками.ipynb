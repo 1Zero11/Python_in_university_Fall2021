{
 "cells": [
  {
   "cell_type": "markdown",
   "id": "accepting-johnston",
   "metadata": {},
   "source": [
    "### Работа со строками. Задачи."
   ]
  },
  {
   "cell_type": "markdown",
   "id": "separated-admission",
   "metadata": {},
   "source": [
    "#### Задача 1. Делаем срезы.\n",
    "Дана строка. Сначала выведите третий символ этой строки. Во второй строке выведите предпоследний символ этой строки. В третьей строке выведите первые пять символов этой строки. В четвертой строке выведите всю строку, кроме последних двух символов. В пятой строке выведите все символы с четными индексами (считая, что индексация начинается с 0, поэтому символы выводятся начиная с первого). В шестой строке выведите все символы с нечетными индексами, то есть начиная со второго символа строки. В седьмой строке выведите все символы в обратном порядке. В восьмой строке выведите все символы строки через один в обратном порядке, начиная с последнего. В девятой строке выведите длину данной строки. "
   ]
  },
  {
   "cell_type": "code",
   "execution_count": 9,
   "id": "empty-sixth",
   "metadata": {},
   "outputs": [
    {
     "name": "stdout",
     "output_type": "stream",
     "text": [
      "sayounara\n",
      "y\n",
      "r\n",
      "sayou\n",
      "sayouna\n",
      "syuaa\n",
      "aonr\n",
      "aranuoyas\n",
      "aauys\n",
      "9\n"
     ]
    }
   ],
   "source": [
    "str = input()\n",
    "print(str[2])\n",
    "print(str[-2])\n",
    "print(str[:5])\n",
    "print(str[:-2])\n",
    "print(str[0:12:2])\n",
    "print(str[1:12:2])\n",
    "print(str[::-1])\n",
    "print(str[::-2])\n",
    "print(len(str))"
   ]
  },
  {
   "cell_type": "markdown",
   "id": "american-october",
   "metadata": {},
   "source": [
    "#### Задача 2. Количество слов.\n",
    "Дана строка, состоящая из слов, разделенных пробелами. Определите, сколько в ней слов. Гарантируется, что в строке не встречается несколько пробелов подряд. "
   ]
  },
  {
   "cell_type": "code",
   "execution_count": 1,
   "id": "tired-network",
   "metadata": {},
   "outputs": [
    {
     "name": "stdout",
     "output_type": "stream",
     "text": [
      "sama lama duma lama\n",
      "4\n"
     ]
    }
   ],
   "source": [
    "print(len(input().split()))"
   ]
  },
  {
   "cell_type": "markdown",
   "id": "aggregate-battery",
   "metadata": {},
   "source": [
    "#### Задача 3. Переставить слова.\n",
    "Дана строка, состоящая ровно из двух слов, разделенных пробелом. Переставьте эти слова местами. Результат запишите в строку и выведите получившуюся строку. При решении этой задачи нельзя пользоваться циклами и инструкцией if. "
   ]
  },
  {
   "cell_type": "code",
   "execution_count": 2,
   "id": "offshore-preview",
   "metadata": {},
   "outputs": [
    {
     "name": "stdout",
     "output_type": "stream",
     "text": [
      "Jack Black\n",
      "Black Jack\n"
     ]
    }
   ],
   "source": [
    "str = input().split()[::-1]\n",
    "print(str[0], str[1])"
   ]
  },
  {
   "cell_type": "markdown",
   "id": "loved-salvation",
   "metadata": {},
   "source": [
    "#### Задача 4. Первое и последнее вхождение.\n",
    "Дана строка. Если в этом числе буква f встречается только один раз, выведите её индекс. Если она встречается два и более раз, выведите индекс её первого и последнего появления. Если буква f в данной строке не встречается, ничего не выводите. При решении этой задачи нельзя использовать метод count и циклы. "
   ]
  },
  {
   "cell_type": "code",
   "execution_count": 7,
   "id": "federal-ferry",
   "metadata": {},
   "outputs": [
    {
     "name": "stdout",
     "output_type": "stream",
     "text": [
      "kfnkjfnfk\n",
      "1 7\n"
     ]
    }
   ],
   "source": [
    "str = input()\n",
    "if len(str.split('f')) == 2:\n",
    "    print(str.index('f'))\n",
    "elif len(str.split('f')) > 2:\n",
    "    print(str.index('f'), len(str) - str[::-1].index('f') -1 )"
   ]
  },
  {
   "cell_type": "markdown",
   "id": "undefined-shell",
   "metadata": {},
   "source": [
    "#### Задача 5. Удаление фрагмента.\n",
    "Дана строка, в которой буква h встречается минимум два раза. Удалите из этой строки первое и последнее вхождение буквы h, а также все символы, находящиеся между ними. "
   ]
  },
  {
   "cell_type": "code",
   "execution_count": 2,
   "id": "proved-command",
   "metadata": {},
   "outputs": [
    {
     "name": "stdout",
     "output_type": "stream",
     "text": [
      "ejfhkfwhlsjkjhsfew\n",
      "ejfsfew\n"
     ]
    }
   ],
   "source": [
    "str = input()\n",
    "str = str.split('h')\n",
    "print(str[0]+str[-1])"
   ]
  },
  {
   "cell_type": "markdown",
   "id": "severe-disco",
   "metadata": {},
   "source": [
    "#### Задача 6. Второе вхождение.\n",
    "Дана строка. Найдите в этой строке второе вхождение буквы f, и выведите индекс этого вхождения. Если буква f в данной строке встречается только один раз, выведите число -1, а если не встречается ни разу, выведите число -2. При решении этой задачи нельзя использовать метод count. "
   ]
  },
  {
   "cell_type": "code",
   "execution_count": 8,
   "id": "bored-polyester",
   "metadata": {},
   "outputs": [
    {
     "name": "stdout",
     "output_type": "stream",
     "text": [
      "krjnfkdbfkjvf\n",
      "8\n"
     ]
    }
   ],
   "source": [
    "str = input()\n",
    "\n",
    "if 'f' in str:\n",
    "    str = str.split('f')\n",
    "    if len(str) > 2:\n",
    "        print(len(str[0])+len(str[1])+1)\n",
    "    else:\n",
    "        print(-1)\n",
    "else:\n",
    "    print(-2)"
   ]
  },
  {
   "cell_type": "markdown",
   "id": "mobile-defendant",
   "metadata": {},
   "source": [
    "#### Задача 7. Дублирование фрагмента.\n",
    "Дана строка, в которой буква h встречается как минимум два раза. Повторите последовательность символов, заключенную между первым и последнием появлением буквы h два раза, сами буквы h повторять не надо. \n",
    "\n",
    "Пример ввода:  qwertyhasdfghzxcvb          \n",
    "Пример вывода: qwertyhasdfgasdfghzxcvb"
   ]
  },
  {
   "cell_type": "code",
   "execution_count": 15,
   "id": "pharmaceutical-alfred",
   "metadata": {},
   "outputs": [
    {
     "name": "stdout",
     "output_type": "stream",
     "text": [
      "ijekhllsfhlef\n",
      "ijekhllsfllsfhlef\n"
     ]
    }
   ],
   "source": [
    "str = input().split('h', 1)\n",
    "left = str[0]\n",
    "right = str[1][::-1].split('h', 1)[0][::-1]\n",
    "print(left + 'h' + 2*str[1].split('h', 1)[0]+'h'+right)"
   ]
  },
  {
   "cell_type": "markdown",
   "id": "amended-karma",
   "metadata": {},
   "source": [
    "#### Задача 8. Замена подстроки.\n",
    "Дана строка. Замените в этой строке все цифры 1 на слово one. "
   ]
  },
  {
   "cell_type": "code",
   "execution_count": 17,
   "id": "received-crash",
   "metadata": {},
   "outputs": [
    {
     "name": "stdout",
     "output_type": "stream",
     "text": [
      "850314589319531\n",
      "8503one45893one953one\n"
     ]
    }
   ],
   "source": [
    "print(input().replace('1', 'one'))"
   ]
  },
  {
   "cell_type": "markdown",
   "id": "requested-chrome",
   "metadata": {},
   "source": [
    "#### Задача 9. Удаление символа. \n",
    "Дана строка. Удалите из этой строки все символы @. "
   ]
  },
  {
   "cell_type": "code",
   "execution_count": 18,
   "id": "accepted-reminder",
   "metadata": {},
   "outputs": [
    {
     "name": "stdout",
     "output_type": "stream",
     "text": [
      "hhg@kosg@org@og@\n",
      "hhgkosgorgog\n"
     ]
    }
   ],
   "source": [
    "print(input().replace('@', ''))"
   ]
  },
  {
   "cell_type": "markdown",
   "id": "statistical-frame",
   "metadata": {},
   "source": [
    "#### Задача 10. Замена внутри фрагмента.\n",
    "Дана строка. Замение в этой строке все появления буквы h на букву H, кроме первого и последнего вхождения."
   ]
  },
  {
   "cell_type": "code",
   "execution_count": 3,
   "id": "alien-rocket",
   "metadata": {},
   "outputs": [
    {
     "name": "stdout",
     "output_type": "stream",
     "text": [
      "123h1234H1234fdH2424gh4\n"
     ]
    }
   ],
   "source": [
    "str = input().split('h', 1)\n",
    "left = str[0]\n",
    "right = str[1][::-1].split('h', 1)[0][::-1]\n",
    "middle = str[1][::-1].split('h', 1)[1][::-1]\n",
    "print(left + 'h' + middle.replace('h', 'H')+'h'+right)"
   ]
  },
  {
   "cell_type": "markdown",
   "id": "grave-lunch",
   "metadata": {},
   "source": [
    "#### Задача 11. Вставка символов.\n",
    "Дана строка. Получите новую строку, вставив между двумя символами исходной строки символ *. Выведите полученную строку.\n",
    "\n",
    "Пример ввода: Python  \n",
    "Пример вывода: P\\*y\\*t\\*h\\*o\\*n"
   ]
  },
  {
   "cell_type": "code",
   "execution_count": 20,
   "id": "sharp-protocol",
   "metadata": {},
   "outputs": [
    {
     "name": "stdout",
     "output_type": "stream",
     "text": [
      "Python\n",
      "P*y*t*h*o*n\n"
     ]
    }
   ],
   "source": [
    "print(input().replace('', '*')[1:-1])"
   ]
  },
  {
   "cell_type": "markdown",
   "id": "geological-thesaurus",
   "metadata": {},
   "source": [
    "#### Задача 12. Удалить каждый третий символ.\n",
    "Дана строка. Удалите из нее все символы, чьи индексы делятся на 3. Символы строки нумеруются, начиная с нуля. \n",
    "\n",
    "Пример ввода: Python   \n",
    "Пример вывода: yton"
   ]
  },
  {
   "cell_type": "code",
   "execution_count": 2,
   "id": "later-malta",
   "metadata": {},
   "outputs": [
    {
     "name": "stdout",
     "output_type": "stream",
     "text": [
      "yton\n"
     ]
    }
   ],
   "source": [
    "str = input()\n",
    "new = []\n",
    "\n",
    "for n in range(len(str)):\n",
    "    if not n%3 == 0:\n",
    "        new.append(str[n])\n",
    "print(''.join(new))"
   ]
  },
  {
   "cell_type": "code",
   "execution_count": null,
   "id": "ed5ea887",
   "metadata": {},
   "outputs": [],
   "source": []
  }
 ],
 "metadata": {
  "kernelspec": {
   "display_name": "Python 3 (ipykernel)",
   "language": "python",
   "name": "python3"
  },
  "language_info": {
   "codemirror_mode": {
    "name": "ipython",
    "version": 3
   },
   "file_extension": ".py",
   "mimetype": "text/x-python",
   "name": "python",
   "nbconvert_exporter": "python",
   "pygments_lexer": "ipython3",
   "version": "3.9.7"
  }
 },
 "nbformat": 4,
 "nbformat_minor": 5
}
