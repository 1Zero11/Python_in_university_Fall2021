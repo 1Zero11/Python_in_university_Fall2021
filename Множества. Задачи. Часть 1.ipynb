{
 "cells": [
  {
   "cell_type": "markdown",
   "id": "breathing-piece",
   "metadata": {},
   "source": [
    "### Множества. Задачи. Часть 1. \n",
    "\n",
    "**Задача 1. Количество различных чисел.**   \n",
    "Дан список чисел, который может содержать до 100000 чисел. Определите, сколько в нем встречается различных чисел.\n",
    "\n",
    "Формат ввода: Вводится список целых чисел. Все числа списка находятся на одной строке.   \n",
    "Формат вывода: Выведите ответ на задачу.\n"
   ]
  },
  {
   "cell_type": "code",
   "execution_count": 2,
   "id": "protecting-mississippi",
   "metadata": {},
   "outputs": [
    {
     "name": "stdout",
     "output_type": "stream",
     "text": [
      "4\n"
     ]
    }
   ],
   "source": [
    "arr = set(map(int, input().split()))\n",
    "print(len(arr))"
   ]
  },
  {
   "cell_type": "markdown",
   "id": "documentary-spell",
   "metadata": {},
   "source": [
    "**Задача 2.Количество совпадающих.**  Даны два списка чисел, которые могут содержать до 100000 чисел каждый. Посчитайте, сколько чисел содержится одновременно как в первом списке, так и во втором.   \n",
    "Примечание. Эту задачу на Питоне можно решить в одну строчку. \n",
    "\n",
    "Формат ввода: Вводятся два списка чисел. Все числа каждого списка находятся на отдельной строке. \n"
   ]
  },
  {
   "cell_type": "code",
   "execution_count": 4,
   "id": "joint-occasions",
   "metadata": {},
   "outputs": [
    {
     "name": "stdout",
     "output_type": "stream",
     "text": [
      "3\n"
     ]
    }
   ],
   "source": [
    "print(len(set(map(int, input().split())) & set(map(int, input().split()))))"
   ]
  },
  {
   "cell_type": "markdown",
   "id": "vietnamese-phoenix",
   "metadata": {},
   "source": [
    "**Задача 3. Пересечение множеств.**   \n",
    "Даны два списка чисел, которые могут содержать до 10000 чисел каждый. Выведите все числа, которые входят как в первый, так и во второй список в порядке возрастания. Примечание. И даже эту задачу на Питоне можно решить в одну строчку. \n"
   ]
  },
  {
   "cell_type": "code",
   "execution_count": 5,
   "id": "outstanding-embassy",
   "metadata": {},
   "outputs": [
    {
     "name": "stdout",
     "output_type": "stream",
     "text": [
      "[3, 4]\n"
     ]
    }
   ],
   "source": [
    "print(sorted(set(map(int, input().split())) & set(map(int, input().split()))))"
   ]
  },
  {
   "cell_type": "markdown",
   "id": "dedicated-adjustment",
   "metadata": {},
   "source": [
    "**Задача 4. Встречалось ли число раньше.**   \n",
    "Во входной строке записана последовательность чисел через пробел. Для каждого числа выведите слово YES (в отдельной строке), если это число ранее встречалось в последовательности или NO, если не встречалось. \n"
   ]
  },
  {
   "cell_type": "code",
   "execution_count": 7,
   "id": "rolled-vegetarian",
   "metadata": {},
   "outputs": [
    {
     "name": "stdout",
     "output_type": "stream",
     "text": [
      "1 NO\n",
      "2 NO\n",
      "3 NO\n",
      "4 NO\n",
      "5 NO\n",
      "6 NO\n",
      "7 NO\n",
      "8 NO\n",
      "12 NO\n",
      "5 YES\n",
      "4 YES\n",
      "30 NO\n",
      "12 YES\n",
      "4 YES\n",
      "1 YES\n"
     ]
    }
   ],
   "source": [
    "arr = list(map(int, input().split()))\n",
    "\n",
    "used = set()\n",
    "\n",
    "for i in arr:\n",
    "    if not i in used:\n",
    "        used.add(i)\n",
    "        print(i,'NO')\n",
    "    else:\n",
    "        print(i,'YES')"
   ]
  },
  {
   "cell_type": "markdown",
   "id": "thirty-protein",
   "metadata": {},
   "source": [
    "**Задача 5. Количество слов в тексте.**   \n",
    "Во входном файле (вы можете читать данные из sys.stdin, подключив библиотеку sys) записан текст. Словом считается последовательность непробельных символов идущих подряд, слова разделены одним или большим числом пробелов или символами конца строки. Определите, сколько различных слов содержится в этом тексте.    \n",
    "\n",
    "Формат ввода: вводится текст.\n"
   ]
  },
  {
   "cell_type": "code",
   "execution_count": 15,
   "id": "champion-engineering",
   "metadata": {},
   "outputs": [
    {
     "name": "stdout",
     "output_type": "stream",
     "text": [
      "0\n"
     ]
    }
   ],
   "source": [
    "# Не запускается в VSCode Jupyter, так что тестил как отдельный скрипт\n",
    "\n",
    "import sys\n",
    "import re\n",
    "\n",
    "lines = sys.stdin.read().rstrip()\n",
    "lines = re.split(' |\\n', lines)\n",
    "print(len(set(lines))-1)"
   ]
  },
  {
   "cell_type": "markdown",
   "id": "hawaiian-depth",
   "metadata": {},
   "source": [
    "**Задача 6. Угадай число.**   \n",
    "Август и Беатриса играют в игру. Август загадал натуральное число от 1 до n. Беатриса пытается угадать это число, для этого она называет некоторые множества натуральных чисел. Август отвечает Беатрисе YES, если среди названных ей чисел есть задуманное или NO в противном случае. После нескольких заданных вопросов Беатриса запуталась в том, какие вопросы она задавала и какие ответы получила и просит вас помочь ей определить, какие числа мог задумать Август.    \n",
    "\n",
    "Формат ввода: Первая строка входных данных содержит число n — наибольшее число, которое мог загадать Август. Далее идут строки, содержащие вопросы Беатрисы. Каждая строка представляет собой набор чисел, разделенных пробелами. После каждой строки с вопросом идет ответ Августа: YES или NO. Наконец, последняя строка входных данных содержит одно слово HELP. \n",
    "Формат вывода: Вы должны вывести (через пробел, в порядке возрастания) все числа, которые мог задумать Август.    \n",
    "\n",
    "Пример ввода:    \n",
    "10   \n",
    "1 2 3 4 5   \n",
    "YES   \n",
    "2 4 6 8 10   \n",
    "NO   \n",
    "HELP   \n",
    "\n",
    "Пример вывода:   \n",
    "1 3 5   \n"
   ]
  },
  {
   "cell_type": "code",
   "execution_count": 19,
   "id": "royal-hurricane",
   "metadata": {},
   "outputs": [
    {
     "name": "stdout",
     "output_type": "stream",
     "text": [
      "0\n",
      "1\n",
      "0\n",
      "1\n",
      "1 3 5\n"
     ]
    }
   ],
   "source": [
    "N = int(input())\n",
    "\n",
    "possible = set(range(N))\n",
    "\n",
    "state = 0\n",
    "\n",
    "inputset = set()\n",
    "\n",
    "while(True):\n",
    "    text = input()\n",
    "    if text=='HELP':\n",
    "        break\n",
    "    \n",
    "    if state == 0:\n",
    "        inputset = set(map(int, text.split()))\n",
    "        state = 1\n",
    "    else:\n",
    "        if text == 'YES':\n",
    "            possible &= inputset\n",
    "        else:\n",
    "            possible -= inputset\n",
    "        state = 0\n",
    "\n",
    "print(' '.join(map(str, possible)))\n",
    "\n"
   ]
  },
  {
   "cell_type": "markdown",
   "id": "favorite-remark",
   "metadata": {},
   "source": [
    "**Задача 7. Полиглоты.**    \n",
    "Каждый из N школьников некоторой школы знает Mi языков. Определите, какие языки знают все школьники и языки, которые знает хотя бы один из школьников.    \n",
    "\n",
    "Формат ввода: Первая строка входных данных содержит количество школьников N. Далее идет N чисел Mi, после каждого из чисел идет Mi строк, содержащих названия языков, которые знает i-й школьник.   \n",
    "\n",
    "Формат вывода: В первой строке выведите количество языков, которые знают все школьники. Начиная со второй строки - список таких языков. Затем - количество языков, которые знает хотя бы один школьник, на следующих строках - список таких языков.   \n",
    "\n",
    "Пример ввода:   \n",
    "3_   \n",
    "3_   \n",
    "Russian   \n",
    "English   \n",
    "Japanese   \n",
    "2_   \n",
    "Russian   \n",
    "English   \n",
    "1_   \n",
    "English     \n",
    "\n",
    "Вывод:   \n",
    "1_   \n",
    "English   \n",
    "3_   \n",
    "Russian   \n",
    "Japanese   \n",
    "English   \n"
   ]
  },
  {
   "cell_type": "code",
   "execution_count": 3,
   "id": "applied-point",
   "metadata": {},
   "outputs": [
    {
     "name": "stdout",
     "output_type": "stream",
     "text": [
      "1\n",
      "Eng\n",
      "3\n",
      "Rus\n",
      "Eng\n",
      "Jap\n"
     ]
    }
   ],
   "source": [
    "N = int(input())\n",
    "allLanguages = set()\n",
    "everybodyKnows = set()\n",
    "\n",
    "for i in range(N):\n",
    "    num = int(input())\n",
    "    studentSet = set()\n",
    "    for j in range(num):\n",
    "        studentSet.add(input())\n",
    "    allLanguages |= studentSet\n",
    "    if i==0:\n",
    "        everybodyKnows = studentSet\n",
    "    else:\n",
    "        everybodyKnows = studentSet & everybodyKnows\n",
    "\n",
    "print(len(everybodyKnows))\n",
    "for ln in everybodyKnows:\n",
    "    print(ln)\n",
    "\n",
    "print(len(allLanguages))\n",
    "for ln in allLanguages:\n",
    "    print(ln)\n"
   ]
  },
  {
   "cell_type": "markdown",
   "id": "decreased-quality",
   "metadata": {},
   "source": [
    "**Задача 8. Телефонные номера.**   \n",
    "Телефонные номера в адресной книге мобильного телефона имеют один из следующих форматов: +7<код><номер>, 8<код><номер>, <номер>, где <номер> — это семь цифр, а <код> — это три цифры или три цифры в круглых скобках. Если код не указан, то считается, что он равен 495. Кроме того, в записи телефонного номера может стоять знак “-” между любыми двумя цифрами (см. пример). На данный момент в адресной книге телефона Васи записано всего три телефонных номера, и он хочет записать туда еще один. Но он не может понять, не записан ли уже такой номер в телефонной книге. Помогите ему! Два телефонных номера совпадают, если у них равны коды и равны номера. Например, +7(916)0123456 и 89160123456 — это один и тот же номер.   \n",
    "\n",
    "Формат ввода: В первой строке входных данных записан номер телефона, который Вася хочет добавить в адресную книгу своего телефона. В следующих трех строках записаны три номера телефонов, которые уже находятся в адресной книге телефона Васи. Гарантируется, что каждая из записей соответствует одному из трех приведенных в условии форматов.   \n",
    "\n",
    "Формат вывода: Для каждого телефонного номера в адресной книге выведите YES (заглавными буквами), если он совпадает с тем телефонным номером, который Вася хочет добавить в адресную книгу или NO (заглавными буквами) в противном случае.   \n",
    "\n",
    "Пример ввода:    \n",
    "8(495)430-23-97   \n",
    "+7-4-9-5-43-023-97   \n",
    "4-3-0-2-3-9-7   \n",
    "8-495-430   \n",
    "\n",
    "Вывод:     \n",
    "YES   \n",
    "YES   \n",
    "NO   \n"
   ]
  },
  {
   "cell_type": "code",
   "execution_count": 13,
   "id": "partial-steps",
   "metadata": {},
   "outputs": [
    {
     "name": "stdout",
     "output_type": "stream",
     "text": [
      "84954302397\n",
      "84954302397\n",
      "YES\n",
      "84954302397\n",
      "YES\n",
      "84958495430\n",
      "NO\n"
     ]
    }
   ],
   "source": [
    "def translate(number):\n",
    "    for i in ['(',')','-']:\n",
    "        number = number.replace(i, '')\n",
    "    if len(number) == 7:\n",
    "        number = '8' + number\n",
    "    number = number.replace('+7', '8')\n",
    "    if len(number) < 11:\n",
    "        number = number[0] + '495' + number[1:]\n",
    "    return number\n",
    "\n",
    "# 8(495)430-23-97   \n",
    "# +7-4-9-5-43-023-97   \n",
    "# 4-3-0-2-3-9-7   \n",
    "# 8-495-430\n",
    "\n",
    "num = translate(input())\n",
    "book = []\n",
    "for i in range(3):\n",
    "    book.append(translate(input()))\n",
    "# print(num)\n",
    "\n",
    "for bnum in book:\n",
    "    # print(bnum)\n",
    "    if bnum == num:\n",
    "        print('YES')\n",
    "    else:\n",
    "        print('NO')"
   ]
  }
 ],
 "metadata": {
  "kernelspec": {
   "display_name": "Python 3",
   "language": "python",
   "name": "python3"
  },
  "language_info": {
   "codemirror_mode": {
    "name": "ipython",
    "version": 3
   },
   "file_extension": ".py",
   "mimetype": "text/x-python",
   "name": "python",
   "nbconvert_exporter": "python",
   "pygments_lexer": "ipython3",
   "version": "3.9.7"
  }
 },
 "nbformat": 4,
 "nbformat_minor": 5
}
