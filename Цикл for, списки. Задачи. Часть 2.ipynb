{
 "cells": [
  {
   "cell_type": "markdown",
   "source": [
    "### Цикл for, списки. Задачи. Часть 2\n",
    "\n",
    "**Задача 1. Ферзи.**   \n",
    "Известно, что на доске 8×8 можно расставить 8 ферзей так, чтобы они не били друг друга. Вам дана расстановка 8 ферзей на доске, определите, есть ли среди них пара бьющих друг друга.    \n",
    "   \n",
    "*Формат ввода*: Программа получает на вход восемь пар чисел, каждое число от 1 до 8 - координаты 8 ферзей.  \n",
    "   \n",
    "*Формат вывода*: Если ферзи не бьют друг друга, выведите слово NO, иначе выведите YES. \n",
    "   \n",
    "*Пример ввода 1:*                         \n",
    "1 7                                                  \n",
    "2 4   \n",
    "3 2   \n",
    "4 8   \n",
    "5 6   \n",
    "6 1   \n",
    "7 3   \n",
    "8 5   \n",
    "   \n",
    "*Пример вывода 1:* NO   \n",
    "   \n",
    "*Пример ввода 2:*    \n",
    "1 8                                                 \n",
    "2 7   \n",
    "3 6   \n",
    "4 5   \n",
    "5 4   \n",
    "6 3   \n",
    "7 2   \n",
    "8 1   \n",
    "   \n",
    "*Пример вывода 2:* YES   "
   ],
   "metadata": {}
  },
  {
   "cell_type": "code",
   "execution_count": 8,
   "source": [
    "ferzi = []\r\n",
    "ishit = False\r\n",
    "\r\n",
    "for i in range(8):\r\n",
    "    ferzi.append(list(map(int,input().split())))\r\n",
    "\r\n",
    "for fer in ferzi:\r\n",
    "    x = fer[0]\r\n",
    "    y = fer[1]\r\n",
    "    for otherFer in ferzi:\r\n",
    "        if (otherFer[0] == x or otherFer[1] == y) and not (otherFer[0] == x and otherFer[1] == y):\r\n",
    "            ishit = True\r\n",
    "            break\r\n",
    "        otherX = otherFer[0]\r\n",
    "        otherY = otherFer[1]\r\n",
    "\r\n",
    "        while True:\r\n",
    "            otherX +=1\r\n",
    "            otherY +=1\r\n",
    "            if( 0<otherX<9 and 0<otherY<9):\r\n",
    "                if(x == otherX and y == otherY):\r\n",
    "                    ishit = True\r\n",
    "            else:\r\n",
    "                break\r\n",
    "        otherX = otherFer[0]\r\n",
    "        otherY = otherFer[1]\r\n",
    "        while True:\r\n",
    "            otherX +=1\r\n",
    "            otherY +=-1\r\n",
    "            if( 0<otherX<9 and 0<otherY<9):\r\n",
    "                if(x == otherX and y == otherY):\r\n",
    "                    ishit = True\r\n",
    "            else:\r\n",
    "                break\r\n",
    "        otherX = otherFer[0]\r\n",
    "        otherY = otherFer[1]\r\n",
    "        while True:\r\n",
    "            otherX +=-1\r\n",
    "            otherY +=1\r\n",
    "            if( 0<otherX<9 and 0<otherY<9):\r\n",
    "                if(x == otherX and y == otherY):\r\n",
    "                    ishit = True\r\n",
    "            else:\r\n",
    "                break\r\n",
    "        otherX = otherFer[0]\r\n",
    "        otherY = otherFer[1]\r\n",
    "        while True:\r\n",
    "            otherX +=-1\r\n",
    "            otherY +=-1\r\n",
    "            if( 0<otherX<9 and 0<otherY<9):\r\n",
    "                if(x == otherX and y == otherY):\r\n",
    "                    ishit = True\r\n",
    "            else:\r\n",
    "                break\r\n",
    "\r\n",
    "if ishit:\r\n",
    "    print('YES')\r\n",
    "else:\r\n",
    "    print('NO')"
   ],
   "outputs": [
    {
     "output_type": "stream",
     "name": "stdout",
     "text": [
      "YES\n"
     ]
    }
   ],
   "metadata": {}
  },
  {
   "cell_type": "markdown",
   "source": [
    "**Задача 2. Сжатие списка.**   \n",
    "Вводится список чисел. Все числа списка находятся на одной строке. Требуется “сжать” его, переместив все ненулевые элементы в левую часть списка, не меняя их порядок, а все нули - в правую часть. Порядок ненулевых элементов изменять нельзя, дополнительный список использовать нельзя, задачу нужно выполнить за один проход по списку. Распечатайте полученный список.\n",
    "\n",
    "*Пример ввода*: 4 0 5 0 3 0 0 5\n",
    "\n",
    "*Пример вывода*: 4 5 3 5 0 0 0 0 \n"
   ],
   "metadata": {}
  },
  {
   "cell_type": "code",
   "execution_count": 13,
   "source": [
    "arr = list(map(int,input().split()))\r\n",
    "writeIndex = 0\r\n",
    "\r\n",
    "for i in range(len(arr)):\r\n",
    "    if arr[i] != 0 and writeIndex != i:\r\n",
    "        arr[writeIndex] = arr[i]\r\n",
    "        writeIndex += 1\r\n",
    "        arr[i] = 0\r\n",
    "    elif arr[i] != 0 and writeIndex == i:\r\n",
    "        writeIndex+=1\r\n",
    "print(arr)"
   ],
   "outputs": [
    {
     "output_type": "stream",
     "name": "stdout",
     "text": [
      "[4, 5, 3, 5, 0, 0, 0, 0]\n"
     ]
    }
   ],
   "metadata": {}
  },
  {
   "cell_type": "markdown",
   "source": [
    "**Задача 3. Самое частое число.**   \n",
    "Вводится список чисел. Все числа списка находятся на одной строке. Не изменяя его и не используя дополнительные списки, определите, какое число в этом списке встречается чаще всего. Если таких чисел несколько, выведите любое из них. \n",
    "\n",
    "*Пример ввода*: 1 2 3 2 3 3   \n",
    "*Пример вывода*: 3\n"
   ],
   "metadata": {}
  },
  {
   "cell_type": "code",
   "execution_count": 15,
   "source": [
    "arr = list(map(int,input().split()))\r\n",
    "maxx = 0\r\n",
    "result = 0\r\n",
    "\r\n",
    "for i in arr:\r\n",
    "    count = 0\r\n",
    "    for j in arr:\r\n",
    "        if i == j:\r\n",
    "            count += 1\r\n",
    "    if maxx < count:\r\n",
    "        result = i\r\n",
    "\r\n",
    "print(result)"
   ],
   "outputs": [
    {
     "output_type": "stream",
     "name": "stdout",
     "text": [
      "2\n"
     ]
    }
   ],
   "metadata": {}
  }
 ],
 "metadata": {
  "kernelspec": {
   "name": "python3",
   "display_name": "Python 3.9.7 64-bit ('venv': venv)"
  },
  "language_info": {
   "codemirror_mode": {
    "name": "ipython",
    "version": 3
   },
   "file_extension": ".py",
   "mimetype": "text/x-python",
   "name": "python",
   "nbconvert_exporter": "python",
   "pygments_lexer": "ipython3",
   "version": "3.9.7"
  },
  "interpreter": {
   "hash": "30fc671ee31657b89ca62a1a3aacc4bc1c1d3331bade81200542509f75df2d34"
  }
 },
 "nbformat": 4,
 "nbformat_minor": 5
}