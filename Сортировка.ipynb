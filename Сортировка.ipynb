{
 "cells": [
  {
   "cell_type": "markdown",
   "metadata": {},
   "source": [
    "Задача 1. Возрастает ли список\n",
    "Дан список. Определите, является ли он монотонно возрастающим. Выведите YES, если массив монотонно возрастает и NO в противном случае.\n"
   ]
  },
  {
   "cell_type": "code",
   "execution_count": 4,
   "metadata": {},
   "outputs": [
    {
     "name": "stdout",
     "output_type": "stream",
     "text": [
      "NO\n"
     ]
    }
   ],
   "source": [
    "lst = list(map(int,input().split()))\n",
    "\n",
    "output = \"YES\"\n",
    "\n",
    "for i in range(len(lst)-1):\n",
    "    if lst[i]>lst[i+1]:\n",
    "        output = \"NO\"\n",
    "        break\n",
    "print(output)"
   ]
  },
  {
   "cell_type": "markdown",
   "metadata": {},
   "source": [
    "Задача 2. Последний максимум\n",
    "Найдите наибольшее значение в списке и индекс последнего элемента, который имеет данное значение за один проход по списку, не модифицируя этот список и не используя дополнительного списка. Выведите два значения.\n"
   ]
  },
  {
   "cell_type": "code",
   "execution_count": 5,
   "metadata": {},
   "outputs": [
    {
     "name": "stdout",
     "output_type": "stream",
     "text": [
      "5\n",
      "6\n"
     ]
    }
   ],
   "source": [
    "lst = list(map(int,input().split()))\n",
    "\n",
    "maximum = min(lst)\n",
    "maxindex = 0\n",
    "\n",
    "for i in range(len(lst)):\n",
    "    if lst[i]>=maximum:\n",
    "        maximum = lst[i]\n",
    "        maxindex = i\n",
    "\n",
    "print(maximum)\n",
    "print(maxindex)"
   ]
  },
  {
   "cell_type": "markdown",
   "metadata": {},
   "source": [
    "Задача 3. Ближайшее число.\n",
    "Напишите программу, которая находит в массиве элемент, самый близкий по величине к  данному числу. \n",
    "Формат ввода: В первой строке задается одно натуральное число N, не превосходящее 1000 – размер массива. Во второй строке содержатся N чисел – элементы массива (целые числа, не превосходящие по модулю 1000). В третьей строке вводится одно целое число x, не превосходящее по модулю 1000. \n",
    "Формат вывода: Вывести значение элемента массива, ближайшее к x. Если таких чисел несколько, выведите любое из них. \n",
    "Пример ввода:                                               Пример вывода:\n",
    "5                                                                      5\n",
    "1 2 3 4 5\n",
    "6\n",
    "Пример ввода:                                               Пример вывода:\n",
    "5                                                                      3\n",
    "5 4 3 2 1\n",
    "3\n"
   ]
  },
  {
   "cell_type": "code",
   "execution_count": 7,
   "metadata": {},
   "outputs": [
    {
     "name": "stdout",
     "output_type": "stream",
     "text": [
      "5\n"
     ]
    }
   ],
   "source": [
    "N = int(input())\n",
    "lst = list(map(int,input().split()))\n",
    "x = int(input())\n",
    "\n",
    "bestmatch = 0\n",
    "\n",
    "for i in range(len(lst)):\n",
    "    if abs(lst[i]-x)<abs(bestmatch-x):\n",
    "        bestmatch = lst[i]\n",
    "\n",
    "print(bestmatch)"
   ]
  },
  {
   "cell_type": "markdown",
   "metadata": {},
   "source": [
    "Задача 4. Наибольшее произведение трех чисел\n",
    "В данном списке из n целых чисел найдите три числа,произведение которых максимально. Решение должно иметь сложность O(n), где n - размер списка.\n",
    "Выведите три искомых числа в любом порядке.\n"
   ]
  },
  {
   "cell_type": "code",
   "execution_count": 10,
   "metadata": {},
   "outputs": [
    {
     "name": "stdout",
     "output_type": "stream",
     "text": [
      "150\n"
     ]
    }
   ],
   "source": [
    "lst = list(map(int,input().split()))\n",
    "\n",
    "neglist = [0, 0]\n",
    "posmax = 0\n",
    "\n",
    "poslist = [0, 0 ,0]\n",
    "\n",
    "for i in lst:\n",
    "    if i>min(poslist):\n",
    "        poslist[poslist.index(min(poslist))] = i\n",
    "    \n",
    "    if i>=0 and i>posmax:\n",
    "        posmax = i\n",
    "    elif i<=0 and i<max(neglist):\n",
    "        neglist[neglist.index(max(neglist))] = i\n",
    "\n",
    "print(max(posmax*neglist[0]*neglist[1],\n",
    "             poslist[0]*poslist[1]*poslist[2]))\n"
   ]
  },
  {
   "cell_type": "markdown",
   "metadata": {},
   "source": [
    "Задача 5. Сортировка подсчетом\n",
    "Дан список из N элементов,которые принимают целые значения от 0 до 10.\n",
    "Отсортируйте этот список в порядке неубывания элементов. Выведите полученный список.\n",
    "Решение оформите в виде функции CountSort(A), которая модифицирует передаваемый ей список. Использовать встроенные функции сортировки нельзя.\n"
   ]
  },
  {
   "cell_type": "code",
   "execution_count": 13,
   "metadata": {},
   "outputs": [
    {
     "name": "stdout",
     "output_type": "stream",
     "text": [
      "[0, 1, 1, 2, 3, 4, 4, 6, 7, 8, 9, 10]\n"
     ]
    }
   ],
   "source": [
    "def CountSort(A):\n",
    "    arr = []\n",
    "    for i in range(11):\n",
    "        arr.append(0)\n",
    "\n",
    "    for i in A:\n",
    "        arr[i] += 1\n",
    "\n",
    "    output = []\n",
    "    for i in range(len(arr)):\n",
    "        for j in range(arr[i]):\n",
    "            output.append(i)\n",
    "    return output\n",
    "\n",
    "lst = list(map(int,input().split()))\n",
    "print(CountSort(lst))"
   ]
  },
  {
   "cell_type": "markdown",
   "metadata": {},
   "source": [
    "Задача 6. Создание архива\n",
    "Системный администратор вспомнил, что давно не делал архива пользовательских файлов.Однако, объем диска, куда он может поместить архив, может быть меньше чем суммарный объем архивируемых файлов.\n",
    "Известно, какой объем занимают файлы каждого пользователя.\n",
    "Напишите программу, которая по заданной информации о пользователях и свободному объему на архивном диске определит максимальное число пользователей, чьи данные можно поместить в архив, при этом используя свободное место как можно более полно.\n",
    "Формат ввода:\n",
    "Программа получает на вход в одной строке число S – размер свободного места на диске (натуральное, не превышает 10000), и число N – количество пользователей (натуральное, не превышает 100), после этого идет N чисел - объем данных каждого пользователя (натуральное, не превышает 1000), записанных каждое в отдельной строке.\n",
    "Формат вывода:\n",
    "Выведите наибольшее количество пользователей, чьи данные могут быть помещены в архив. \n"
   ]
  },
  {
   "cell_type": "code",
   "execution_count": 15,
   "metadata": {},
   "outputs": [
    {
     "name": "stdout",
     "output_type": "stream",
     "text": [
      "4\n"
     ]
    }
   ],
   "source": [
    "S = int(input())\n",
    "N = int(input())\n",
    "lst = list(map(int,input().split()))\n",
    "\n",
    "lst.sort()\n",
    "\n",
    "sum = 0\n",
    "count = 0\n",
    "\n",
    "for i in range(len(lst)):\n",
    "    if sum+lst[i]<= S:\n",
    "        sum+=lst[i]\n",
    "        count +=1\n",
    "    else:\n",
    "        break\n",
    "\n",
    "print(count)\n",
    "\n"
   ]
  },
  {
   "cell_type": "markdown",
   "metadata": {},
   "source": [
    "Задача 7. Результаты олимпиады\n",
    "В олимпиаде участвовало N человек. Каждый получил определенное количество баллов, при этом оказалось,что у всех участников — разное число баллов.\n",
    "Упорядочите список участников олимпиады в порядке убывания набранных баллов.\n",
    "Формат ввода:\n",
    "Программа получает на вход число участников олимпиады N. Далее идет N строк, в каждой строке записана фамилия участника, затем, через пробел, набранное им количество баллов.\n",
    "Формат вывода:\n",
    "Выведите список участников (только фамилии) в порядке убывания набранных баллов.\n",
    "Пример ввода: \n",
    "3                                                      \n",
    "Иванов 15                      \n",
    "Петров 10\n",
    "Сидоров 20\n",
    "Пример вывода:\n",
    "Сидоров\n",
    "Иванов\n",
    "Петров\n"
   ]
  },
  {
   "cell_type": "code",
   "execution_count": 17,
   "metadata": {},
   "outputs": [
    {
     "name": "stdout",
     "output_type": "stream",
     "text": [
      "Сидоров\n",
      "Иванов\n",
      "Петров\n"
     ]
    }
   ],
   "source": [
    "N = int(input())\n",
    "dictionary = {}\n",
    "for i in range(N):\n",
    "    lst = input().split()\n",
    "    dictionary[lst[0]] = int(lst[1])\n",
    "\n",
    "names = dict(sorted(dictionary.items(), reverse= True, key=lambda item: item[1])).keys()\n",
    "\n",
    "for s in names:\n",
    "    print(s)"
   ]
  },
  {
   "cell_type": "markdown",
   "metadata": {},
   "source": [
    "Задача 8. Пересечение множеств\n",
    "Даны два списка, упорядоченных по возрастанию (каждый список состоит из различных элементов).Найдите пересечение множеств элементов этих списков, то есть те числа, которые являются элементами обоих списков. Алгоритм должен иметь сложность O(len(A)+len(B)).\n",
    "Решение оформите в виде функции Intersection(A, B).Функция должна возвращать список пересечения данных списков в порядке возрастания элементов.Модифицировать исходные списки запрещается.\n",
    "Формат ввода: Программа получает на вход два возрастающих списка, каждый в отдельной строке. \n",
    "Формат вывода: Программа должна вывести последовательность возрастающих чисел,являющихся элементами обоих списков. \n",
    "\n"
   ]
  },
  {
   "cell_type": "code",
   "execution_count": 20,
   "metadata": {},
   "outputs": [
    {
     "name": "stdout",
     "output_type": "stream",
     "text": [
      "[1, 4, 6]\n"
     ]
    }
   ],
   "source": [
    "def Intersection(A, B):\n",
    "    return list(set(A) & set(B))\n",
    "\n",
    "lst1 = list(map(int,input().split()))\n",
    "lst2 = list(map(int,input().split()))\n",
    "\n",
    "print(Intersection(lst1, lst2))"
   ]
  },
  {
   "cell_type": "markdown",
   "metadata": {},
   "source": [
    "Задача 9. Максимальный балл по классам\n",
    "В олимпиаде по информатике принимало участие несколько человек. Победителем олимпиады становится человек, набравший больше всех баллов. Победители определяются независимо по каждому классу. Определите количество баллов, которое набрал победитель в каждом классе. Гарантируется, что в каждом классе был хотя бы один участник. \n",
    "Формат ввода: \n",
    "Информация о результатах олимпиады записана в файле, каждая строка которого имеет вид: фамилия имя класс балл.\n",
    "Фамилия и имя — текстовые строки, не содержащие пробелов. Класс - одно из трех чисел 9, 10, 11. Балл - целое число от 0 до 100.\n",
    "В этой задаче файл необходимо считывать построчно, не сохраняя содержимое файла в памяти целиком.\n",
    "Формат вывода: \n",
    "Выведите три числа: баллы победителя олимпиады по 9 классу, по 10 классу, по 11 классу. Входной файл в кодировке utf-8 (В Python используйте open('input.txt', 'r', encoding='utf-8')). \n",
    "Пример ввода:\n",
    "Иванов Сергей 9 90\n",
    "Сергеев Петр 10 91\n",
    "Петров Василий 11 92\n",
    "Васильев Иван 9 93\n",
    "Пример вывода:\n",
    "93  91  92\n"
   ]
  },
  {
   "cell_type": "code",
   "execution_count": 27,
   "metadata": {},
   "outputs": [
    {
     "name": "stdout",
     "output_type": "stream",
     "text": [
      "93 91 92\n"
     ]
    }
   ],
   "source": [
    "f = open('input.txt', 'r', encoding='utf-8')\n",
    "scores = [0,0,0]\n",
    "while (line := f.readline().rstrip().split()):\n",
    "    if(scores[int(line[2])-9] < int(line[3])):\n",
    "        scores[int(line[2])-9] = int(line[3])\n",
    "\n",
    "\n",
    "print(' '.join(map(str,scores)))"
   ]
  },
  {
   "cell_type": "markdown",
   "metadata": {},
   "source": [
    "Задача 10. Средний балл по классам\n",
    "В условиях предыдущей задачи определите и выведите средние баллы участников олимпиады в 9 классе, в 10 классе, в 11 классе. \n",
    "Пример ввода:\n",
    "Иванов Сергей 9 90\n",
    "Сергеев Петр 10 91\n",
    "Петров Василий 11 92\n",
    "Васильев Иван 9 93\n",
    "Пример вывода:\n",
    "91.5  91.0  92.0\n"
   ]
  },
  {
   "cell_type": "code",
   "execution_count": 28,
   "metadata": {},
   "outputs": [
    {
     "name": "stdout",
     "output_type": "stream",
     "text": [
      "91.5 91.0 92.0\n"
     ]
    }
   ],
   "source": [
    "f = open('input.txt', 'r', encoding='utf-8')\n",
    "scores = [0,0,0]\n",
    "count = [0,0,0]\n",
    "while (line := f.readline().rstrip().split()):\n",
    "    scores[int(line[2])-9] += int(line[3])\n",
    "    count[int(line[2])-9] += 1\n",
    "\n",
    "for i in range(3):\n",
    "    scores[i] = scores[i]/count[i]\n",
    "\n",
    "print(' '.join(map(str,scores)))"
   ]
  },
  {
   "cell_type": "markdown",
   "metadata": {},
   "source": [
    "Задача 11. Максимальный балл не-победителя\n",
    "Зачет проводится отдельно в каждом классе. Победителями олимпиады становятся школьники, которые набрали наибольший балл среди всех участников в данном классе.\n",
    "Для каждого класса определите максимальный балл, который набрал школьник, не ставший победителем в данном классе.\n",
    "Пример ввода:\n",
    "Иванов Сергей 9 80\n",
    "Сергеев Петр 10 82\n",
    "Петров Василий 11 82\n",
    "Васильев Андрей 9 81\n",
    "Андреев Александр 10 81\n",
    "Александров Роман 9 81\n",
    "Романов Иван 11 83\n",
    "Пример вывода:\n",
    "80  81  82\n"
   ]
  },
  {
   "cell_type": "code",
   "execution_count": 31,
   "metadata": {},
   "outputs": [
    {
     "name": "stdout",
     "output_type": "stream",
     "text": [
      "80 81 82\n"
     ]
    }
   ],
   "source": [
    "f = open('input.txt', 'r', encoding='utf-8')\n",
    "scores = [0,0,0]\n",
    "secondScores = [0,0,0]\n",
    "while (line := f.readline().rstrip().split()):\n",
    "    if(scores[int(line[2])-9] < int(line[3])):\n",
    "        secondScores[int(line[2])-9] = scores[int(line[2])-9]\n",
    "        scores[int(line[2])-9] = int(line[3])\n",
    "    elif secondScores[int(line[2])-9] < int(line[3]) < scores[int(line[2])-9]:\n",
    "        secondScores[int(line[2])-9] = int(line[3])\n",
    "\n",
    "\n",
    "print(' '.join(map(str,secondScores)))"
   ]
  },
  {
   "cell_type": "markdown",
   "metadata": {},
   "source": [
    "Задача 12. Семипроцентный барьер\n",
    "В Государственную Думу Федерального Собрания Российской Федерации выборы производятся по партийным спискам. Каждый избиратель указывает одну партию, за которую он отдает свой голос. В Государственную Думу попадают партии, которые набрали не менее 7% от числа голосов избирателей.\n",
    "Дан список партий и список голосов избирателей. Выведите список партий, которые попадут в Государственную Думу.\n",
    "Формат ввода:\n",
    "В первой строке входного файла написано слово PARTIES:. Далее идет список партий, участвующих в выборах.\n",
    "Затем идет строка, содержащая слово VOTES:. За ним идут названия партий, за которые проголосовали избиратели, по одному названию в строке. Названия могут быть только строками из первого списка.\n",
    "Формат вывода:\n",
    "Программа должна вывести названия партий, получивших не менее 7% от числа голосов в том порядке, в котором они следуют в первом списке. \n",
    "Пример ввода:\n",
    "PARTIES:\n",
    "Party one\n",
    "Party two\n",
    "Party three\n",
    "VOTES:\n",
    "Party one\n",
    "Party one\n",
    "Party three\n",
    "Party one\n",
    "Party one\n",
    "Party three\n",
    "Party two\n",
    "Party one\n",
    "Party three\n",
    "Party three\n",
    "Party one\n",
    "Party one\n",
    "Party three\n",
    "Party three\n",
    "Party one\n",
    "Пример вывода:\n",
    "Party one\n",
    "Party three"
   ]
  },
  {
   "cell_type": "code",
   "execution_count": 46,
   "metadata": {},
   "outputs": [
    {
     "name": "stdout",
     "output_type": "stream",
     "text": [
      "Party one\n"
     ]
    }
   ],
   "source": [
    "f = open('input.txt', 'r', encoding='utf-8')\n",
    "\n",
    "parties = {}\n",
    "f.readline()\n",
    "\n",
    "while (line := f.readline().rstrip()):\n",
    "    if line == 'VOTES:':\n",
    "        break\n",
    "    parties[line] = 0\n",
    "\n",
    "sum = 0\n",
    "\n",
    "while (line := f.readline().rstrip()):\n",
    "    parties[line] += 1\n",
    "    sum += 1\n",
    "\n",
    "for key in parties.keys():\n",
    "    parties[key] = parties[key]/sum\n",
    "\n",
    "\n",
    "names = dict(filter(lambda elem: elem[1] > 0.07, parties.items())).keys()\n",
    "\n",
    "for s in names:\n",
    "    print(s)"
   ]
  }
 ],
 "metadata": {
  "interpreter": {
   "hash": "30fc671ee31657b89ca62a1a3aacc4bc1c1d3331bade81200542509f75df2d34"
  },
  "kernelspec": {
   "display_name": "Python 3.9.7 64-bit ('venv': venv)",
   "name": "python3"
  },
  "language_info": {
   "codemirror_mode": {
    "name": "ipython",
    "version": 3
   },
   "file_extension": ".py",
   "mimetype": "text/x-python",
   "name": "python",
   "nbconvert_exporter": "python",
   "pygments_lexer": "ipython3",
   "version": "3.9.7"
  },
  "orig_nbformat": 4
 },
 "nbformat": 4,
 "nbformat_minor": 2
}
