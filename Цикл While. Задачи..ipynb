{
 "cells": [
  {
   "cell_type": "markdown",
   "source": [
    "## Задачи на циклы\n",
    "\n",
    "*Задачи, отмеченные (\\*\\) являются обязательными для выполнения. Задачи без такого символа - не обязательные, их можно не отправлять. Но рекомендуется их делать тем, кто пока не знаком с синтаксисом языка, чтобы облегчить себе решение других задач.*\n"
   ],
   "metadata": {}
  },
  {
   "cell_type": "markdown",
   "source": [
    "**Задача 1. Список квадратов.** По данному целому числу N распечатайте все квадраты натуральных чисел, не превосходящие N, в порядке возрастания. \n"
   ],
   "metadata": {}
  },
  {
   "cell_type": "code",
   "execution_count": null,
   "source": [],
   "outputs": [],
   "metadata": {}
  },
  {
   "cell_type": "markdown",
   "source": [
    "**Задача 2. Наименьший делитель.** Дано целое число, не меньшее 2. Выведите его наименьший натуральный делитель, отличный от 1. "
   ],
   "metadata": {}
  },
  {
   "cell_type": "code",
   "execution_count": null,
   "source": [],
   "outputs": [],
   "metadata": {}
  },
  {
   "cell_type": "markdown",
   "source": [
    "**(*) Задача 3. Точная степень двойки.** Дано натуральное число N. Выведите слово YES, если число N является точной степенью двойки, или слово NO в противном случае. Операцией возведения в степень пользоваться нельзя! \n"
   ],
   "metadata": {}
  },
  {
   "cell_type": "code",
   "execution_count": 2,
   "source": [
    "def degreeoftwo():\r\n",
    "\r\n",
    "    n = int(input())\r\n",
    "\r\n",
    "    if n == 1:\r\n",
    "        print('YES')\r\n",
    "        return\r\n",
    "\r\n",
    "    while n%2==0:\r\n",
    "        n= n//2\r\n",
    "        if n==1:\r\n",
    "            print('YES')\r\n",
    "            return\r\n",
    "    print('NO')\r\n",
    "    \r\n",
    "degreeoftwo()"
   ],
   "outputs": [
    {
     "output_type": "stream",
     "name": "stdout",
     "text": [
      "NO\n"
     ]
    }
   ],
   "metadata": {}
  },
  {
   "cell_type": "markdown",
   "source": [
    "**(*) Задача 4. Пробежка.** В первый день спортсмен пробежал x километров, а затем он каждый день увеличивал пробег на 10% от предыдущего значения. По данному числу y определите номер дня, на который пробег спортсмена составит не менее y километров. \n",
    "\n",
    "Формат ввода: действительные числа x, y\n",
    "\n",
    "Формат вывода: натуральное число\n"
   ],
   "metadata": {}
  },
  {
   "cell_type": "code",
   "execution_count": 3,
   "source": [
    "x = int(input())\r\n",
    "y = int(input())\r\n",
    "\r\n",
    "days = 0\r\n",
    "\r\n",
    "while x <= y:\r\n",
    "    days+=1\r\n",
    "    x*=1.1\r\n",
    "print(days)"
   ],
   "outputs": [
    {
     "output_type": "stream",
     "name": "stdout",
     "text": [
      "6\n"
     ]
    }
   ],
   "metadata": {}
  },
  {
   "cell_type": "markdown",
   "source": [
    "**Задача 5. Максимум.** Последовательность состоит из натуральных чисел и завершается числом 0. Определите значение наибольшего элемента последовательности. "
   ],
   "metadata": {}
  },
  {
   "cell_type": "code",
   "execution_count": null,
   "source": [],
   "outputs": [],
   "metadata": {}
  },
  {
   "cell_type": "markdown",
   "source": [
    "**Задача 6. Больше предыдущего.**  Последовательность состоит из натуральных чисел и завершается числом 0. Определите, сколько элементов этой последовательности больше предыдущего элемента. "
   ],
   "metadata": {}
  },
  {
   "cell_type": "code",
   "execution_count": null,
   "source": [],
   "outputs": [],
   "metadata": {}
  },
  {
   "cell_type": "markdown",
   "source": [
    "**(*) Задача 7. Максимум-2.** Последовательность состоит из натуральных чисел и завершается числом 0. Определите значение второго по величине элемента в этой последовательности, то есть элемента, который будет наибольшим, если из последовательности удалить наибольший элемент. "
   ],
   "metadata": {}
  },
  {
   "cell_type": "code",
   "execution_count": 7,
   "source": [
    "arr = input().split()\r\n",
    "\r\n",
    "max1 = 0\r\n",
    "max2 = 0\r\n",
    "\r\n",
    "for i in range(len(arr)):\r\n",
    "    if int(arr[i]) > max1:\r\n",
    "        max2 = max1\r\n",
    "        max1 = int(arr[i])\r\n",
    "    elif int(arr[i]) > max2:\r\n",
    "        max2 = int(arr[i])\r\n",
    "\r\n",
    "print(max2)"
   ],
   "outputs": [
    {
     "output_type": "stream",
     "name": "stdout",
     "text": [
      "1 2 3 4 5 6 7 0\n",
      "6\n"
     ]
    }
   ],
   "metadata": {}
  },
  {
   "cell_type": "markdown",
   "source": [
    "**(*) Задача 8. Число максимумов.** Последовательность состоит из натуральных чисел и завершается числом 0. Определите, какое количество элементов этой последовательности, равны ее наибольшему элементу. \n"
   ],
   "metadata": {}
  },
  {
   "cell_type": "code",
   "execution_count": 8,
   "source": [
    "arr = input().split()\r\n",
    "\r\n",
    "max1 = 0\r\n",
    "\r\n",
    "for i in range(len(arr)):\r\n",
    "    if int(arr[i]) > max1:\r\n",
    "        max1 = int(arr[i])\r\n",
    "\r\n",
    "count = 0\r\n",
    "for i in range(len(arr)):\r\n",
    "    if int(arr[i]) == max1:\r\n",
    "        count+=1\r\n",
    "\r\n",
    "print(count)"
   ],
   "outputs": [
    {
     "output_type": "stream",
     "name": "stdout",
     "text": [
      "1 2 9 3 9 7 9 0\n",
      "3\n"
     ]
    }
   ],
   "metadata": {}
  },
  {
   "cell_type": "markdown",
   "source": [
    "**Задача 9. Число Фибоначчи.** Последовательность Фибоначчи определяется так:\n",
    "[ F_0=0, F_1=1, ..., F_n=F_n-1+F_n-2. ]\n",
    "По данному числу n определите n-е число Фибоначчи Fn.\n"
   ],
   "metadata": {}
  },
  {
   "cell_type": "code",
   "execution_count": null,
   "source": [],
   "outputs": [],
   "metadata": {}
  },
  {
   "cell_type": "markdown",
   "source": [
    "**(*) Задача 10. Обращение числа.** Переверните число, т.е. выведите цифры заданного числа в обратном порядке."
   ],
   "metadata": {}
  },
  {
   "cell_type": "code",
   "execution_count": 9,
   "source": [
    "def reverse(str = ''):\n",
    "    if str=='':\n",
    "        str = input()\n",
    "    return (str[::-1])\n",
    "\n",
    "reverse()"
   ],
   "outputs": [
    {
     "output_type": "stream",
     "name": "stdout",
     "text": [
      "73259925\n"
     ]
    },
    {
     "output_type": "execute_result",
     "data": {
      "text/plain": [
       "'52995237'"
      ]
     },
     "metadata": {},
     "execution_count": 9
    }
   ],
   "metadata": {}
  },
  {
   "cell_type": "markdown",
   "source": [
    "**(*) Задача 11. Количество палиндромов.** Назовем число палиндромом, если оно не меняется при перестановке его цифр в обратном порядке. Напишите программу, которая по заданному числу K выводит количество натуральных палиндромов, не превосходящих K. \n",
    "Пример: Для K=1 вывод  1, для K=100 вывод 18, для K=10 вывод  9.\n"
   ],
   "metadata": {}
  },
  {
   "cell_type": "code",
   "execution_count": 10,
   "source": [
    "k = int(input())\n",
    "\n",
    "count = 0\n",
    "\n",
    "for i in range(1,k):\n",
    "    if str(i) == reverse(str(i)):\n",
    "        count+=1\n",
    "\n",
    "print(count)"
   ],
   "outputs": [
    {
     "output_type": "stream",
     "name": "stdout",
     "text": [
      "1000\n",
      "108\n"
     ]
    }
   ],
   "metadata": {}
  },
  {
   "cell_type": "markdown",
   "source": [
    "**(*) Задача 12. Монотонный фрагмент.** Дана последовательность натуральных чисел, завершающаяся числом 0. Определите наибольшую длину монотонного фрагмента последовательности (то есть такого фрагмента, где все элементы либо больше предыдущего, либо меньше). \n"
   ],
   "metadata": {}
  },
  {
   "cell_type": "code",
   "execution_count": 11,
   "source": [
    "arr = input().split()\n",
    "\n",
    "maxmonot = 0\n",
    "\n",
    "previous = int(arr[0])\n",
    "\n",
    "count = 1\n",
    "\n",
    "up = True\n",
    "\n",
    "for i in range(1, len(arr)):\n",
    "    # print(previous, int(arr[i]))\n",
    "\n",
    "    if previous < int(arr[i]):\n",
    "        if up:\n",
    "            count+=1\n",
    "        else:\n",
    "            if maxmonot<count:\n",
    "                maxmonot = count\n",
    "            count = 2\n",
    "            up = True\n",
    "\n",
    "    elif previous > int(arr[i]):\n",
    "        if not up:\n",
    "            count+=1\n",
    "        else:\n",
    "            if maxmonot<count:\n",
    "                maxmonot = count\n",
    "            count = 2\n",
    "            up = False\n",
    "    previous = int(arr[i])\n",
    "\n",
    "print(max(count, maxmonot))"
   ],
   "outputs": [
    {
     "output_type": "stream",
     "name": "stdout",
     "text": [
      "1 2 3 2\n",
      "3\n"
     ]
    }
   ],
   "metadata": {}
  },
  {
   "cell_type": "markdown",
   "source": [
    "**(*) Задача 13. Наименьшее расстояние между локальными максимумами.** Определите наименьшее расстояние между двумя локальными максимумами последовательности натуральных чисел, завершающейся числом 0. Локальным максимумом называется такое число в последовательности, которое больше своих соседей. Если в последовательности нет двух локальных максимумов, выведите число 0. Начальное и конечное значение при этом локальными максимумами не считаются. \n",
    "\n",
    "Пример: \n",
    "\n",
    "Ввод: 1 2 3 0                   Вывод:  1 2 1 1 2 1 2 1 0\n",
    "        \n",
    "Ввод: 1 2 1 1 2 1 2 1 0         Вывод: 0\n"
   ],
   "metadata": {}
  },
  {
   "cell_type": "code",
   "execution_count": 12,
   "source": [
    "arr = input().split()\n",
    "\n",
    "maxindexes = []\n",
    "for i in range(1, len(arr)-1):\n",
    "    if arr[i-1]<arr[i] and arr[i+1]<arr[i]:\n",
    "        maxindexes.append(i)\n",
    "# print(maxindexes)\n",
    "if(len(maxindexes)<2):\n",
    "    print(0)\n",
    "else:\n",
    "    min = len(maxindexes)\n",
    "    previous = maxindexes[0]\n",
    "    for i in range(1, len(maxindexes)):\n",
    "        if maxindexes[i] - maxindexes[i-1] < min:\n",
    "            min = maxindexes[i] - maxindexes[i-1]\n",
    "    print(min)"
   ],
   "outputs": [
    {
     "output_type": "stream",
     "name": "stdout",
     "text": [
      "1 2 1 2 1 1 2 1 0\n",
      "2\n"
     ]
    }
   ],
   "metadata": {}
  },
  {
   "cell_type": "code",
   "execution_count": null,
   "source": [],
   "outputs": [],
   "metadata": {}
  }
 ],
 "metadata": {
  "kernelspec": {
   "name": "python3",
   "display_name": "Python 3.9.7 64-bit ('venv': venv)"
  },
  "language_info": {
   "codemirror_mode": {
    "name": "ipython",
    "version": 3
   },
   "file_extension": ".py",
   "mimetype": "text/x-python",
   "name": "python",
   "nbconvert_exporter": "python",
   "pygments_lexer": "ipython3",
   "version": "3.9.7"
  },
  "interpreter": {
   "hash": "30fc671ee31657b89ca62a1a3aacc4bc1c1d3331bade81200542509f75df2d34"
  }
 },
 "nbformat": 4,
 "nbformat_minor": 5
}