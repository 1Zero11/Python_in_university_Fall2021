{
 "cells": [
  {
   "cell_type": "markdown",
   "source": [
    "\"**Задача 1. Исключающее ИЛИ**\\n\",\r\n",
    "    \"\\n\",\r\n",
    "    \"\\n\",\r\n",
    "    \"Напишите функцию xor(x, y), реализующую функцию \\\"Исключающее ИЛИ\\\" двух логических переменных x и .\\n\",\r\n",
    "    \"Функция xor должна возвращать True, если ровно один из ее аргументов x или y, но не оба одновременно равны True.\\n\""
   ],
   "metadata": {}
  },
  {
   "cell_type": "code",
   "execution_count": null,
   "source": [
    "def xor(x, y):\r\n",
    "  if x==y:\r\n",
    "    return(\"False\")\r\n",
    "  else:\r\n",
    "    return(\"True\")"
   ],
   "outputs": [],
   "metadata": {}
  },
  {
   "cell_type": "markdown",
   "source": [
    " \"**Задача 2. Минимальный делитель числа**\\n\",\r\n",
    "    \"\\n\",\r\n",
    "    \"Дано натуральное число n>1. Выведите его наименьший делитель, отличный от 1. Решение оформите в виде функции MinDivisor(n). Алгоритм должен иметь сложность О(корень из n). \\n\",\r\n",
    "    \"\\n\",\r\n",
    "    \"Указание. Если у числа n нет делителя не превосходящего корень из n, то число n — простое и ответом будет само число n. \""
   ],
   "metadata": {}
  },
  {
   "cell_type": "code",
   "execution_count": 5,
   "source": [
    "import math\r\n",
    "\r\n",
    "def MinDivision(n):\r\n",
    "    border = math.sqrt(n)\r\n",
    "    i = 2\r\n",
    "    while i < border:\r\n",
    "        if n%i==0:\r\n",
    "            return i\r\n",
    "        i+=1\r\n",
    "    return n\r\n",
    "\r\n",
    "print(MinDivision(17))\r\n",
    "print(MinDivision(64))\r\n",
    "print(MinDivision(77))\r\n"
   ],
   "outputs": [
    {
     "output_type": "stream",
     "name": "stdout",
     "text": [
      "17\n",
      "2\n",
      "7\n"
     ]
    }
   ],
   "metadata": {}
  },
  {
   "cell_type": "markdown",
   "source": [
    " \"**Задача 3. Проверка числа на простоту.**\\n\",\r\n",
    "    \"\\n\",\r\n",
    "    \"Дано натуральное число n>1. Проверьте, является ли оно простым. Программа должна вывести слово YES, если число простое и NO, если число составное. Решение оформите в виде функции IsPrime(n), которая возвращает True для простых чисел и False для составных чисел.\\n\"\r\n"
   ],
   "metadata": {}
  },
  {
   "cell_type": "code",
   "execution_count": 6,
   "source": [
    "def IsPrime(n):\r\n",
    "    return True if MinDivision(n) == n else False\r\n",
    "\r\n",
    "print(IsPrime(17))\r\n",
    "print(IsPrime(12))\r\n",
    "print(IsPrime(73))"
   ],
   "outputs": [
    {
     "output_type": "stream",
     "name": "stdout",
     "text": [
      "True\n",
      "False\n",
      "True\n"
     ]
    }
   ],
   "metadata": {}
  },
  {
   "cell_type": "markdown",
   "source": [
    "\"**Задача 4. Возведение в степень.**\\n\",\r\n",
    "    \"\\n\",\r\n",
    "    \"Дано действительное положительное число a и целое неотрицательное число n. Вычислите a^n не используя циклы и стандартную функцию pow, а используя рекуррентное соотношение a^n=a⋅ a^n-1.\\n\",\r\n",
    "    \"\\n\",\r\n",
    "    \"Решение оформите в виде функции power(a, n).\\n\""
   ],
   "metadata": {}
  },
  {
   "cell_type": "code",
   "execution_count": 10,
   "source": [
    "def power(a, n):\r\n",
    "    if n==1:\r\n",
    "        return a\r\n",
    "    else:\r\n",
    "        res = a*power(a, n-1)\r\n",
    "        return res\r\n",
    "\r\n",
    "print(power(2,5))\r\n",
    "print(power(3.5,2))"
   ],
   "outputs": [
    {
     "output_type": "stream",
     "name": "stdout",
     "text": [
      "32\n",
      "12.25\n"
     ]
    }
   ],
   "metadata": {}
  },
  {
   "cell_type": "markdown",
   "source": [
    "\"**Задача 5. Быстрое возведение в степень.**\\n\",\r\n",
    "    \"\\n\",\r\n",
    "    \"Возводить в степень можно гораздо быстрее, чем за n умножений! Для этого нужно воспользоваться следующими рекуррентными соотношениями: a^n=(a^2)^(n/2) при четном n, a^n=a⋅ a^n-1 при нечетном n. Реализуйте алгоритм быстрого возведения в степень. Если вы все сделаете правильно, то сложность вашего алгоритма будет O(logn). \""
   ],
   "metadata": {}
  },
  {
   "cell_type": "code",
   "execution_count": 1,
   "source": [
    "def betterpower(a, n):\r\n",
    "    if n==1:\r\n",
    "        return a\r\n",
    "    elif n%2==0:\r\n",
    "        res = betterpower(a*a, n//2)\r\n",
    "        return res\r\n",
    "    else:\r\n",
    "        res = a*betterpower(a, n-1)\r\n",
    "        return res\r\n",
    "\r\n",
    "print(betterpower(2,5))\r\n",
    "print(betterpower(3.5,2))"
   ],
   "outputs": [
    {
     "output_type": "stream",
     "name": "stdout",
     "text": [
      "32\n",
      "12.25\n"
     ]
    }
   ],
   "metadata": {}
  },
  {
   "cell_type": "markdown",
   "source": [
    "\"**Задача 6. Алгоритм Евклида.**\\n\",\r\n",
    "    \"\\n\",\r\n",
    "    \"\\n\",\r\n",
    "    \"Для быстрого вычисления наибольшего общего делителя двух чисел используют алгоритм Евклида. Он построен на следующем соотношении: НОД(а, b) = НОД (b, a mod b).\\n\",\r\n",
    "    \"\\n\",\r\n",
    "    \"Реализуйте рекурсивный алгоритм Евклида в виде функции gcd(a, b).\\n\""
   ],
   "metadata": {}
  },
  {
   "cell_type": "code",
   "execution_count": 5,
   "source": [
    "def gcd(a, b):\r\n",
    "    if a%b ==0:\r\n",
    "        return b\r\n",
    "    return gcd(b, a%b)\r\n",
    "\r\n",
    "print(gcd(7,18))\r\n",
    "print(gcd(18,81))"
   ],
   "outputs": [
    {
     "output_type": "stream",
     "name": "stdout",
     "text": [
      "1\n",
      "9\n"
     ]
    }
   ],
   "metadata": {}
  },
  {
   "cell_type": "markdown",
   "source": [
    "**Задача 7. Сократите дробь.**\r\n",
    "\r\n",
    "\r\n",
    "    Даны два натуральных числа n и m. Сократите дробь n/m, то есть выведите два других числа p и q таких, что n/m = p/q и дробь p/q — несократимая. Решение оформите в виде функции ReduceFraction(n, m),\r\n",
    "    получающая значения n и m и возвращающей кортеж из двух чисел. "
   ],
   "metadata": {}
  },
  {
   "cell_type": "code",
   "execution_count": 7,
   "source": [
    "def ReduceFraction(n, m):\r\n",
    "    cd = gcd(n,m)\r\n",
    "    return (n//cd, m//cd)\r\n",
    "\r\n",
    "print(ReduceFraction(125,800))"
   ],
   "outputs": [
    {
     "output_type": "stream",
     "name": "stdout",
     "text": [
      "(5, 32)\n"
     ]
    }
   ],
   "metadata": {}
  },
  {
   "cell_type": "markdown",
   "source": [
    "**Задача 8. Разворот последовательности.**\r\n",
    "\r\n",
    "\r\n",
    "    Дана последовательность целых чисел, заканчивающаяся числом 0. Выведите эту последовательность в обратном порядке. При решении этой задачи нельзя пользоваться массивами и прочими динамическими \r\n",
    "    структурами данных. Рекурсия вам поможет."
   ],
   "metadata": {}
  },
  {
   "cell_type": "code",
   "execution_count": 1,
   "source": [
    "# Массив данных нам придётся использовать, потому что даже строчка это тоже массив. Но я использовал его по-минимуму, основное всё делает рекурсия\r\n",
    "\r\n",
    "def ReadBackwards():\r\n",
    "    n = int(input())\r\n",
    "    if n!=0:\r\n",
    "        ReadBackwards()\r\n",
    "    print(n)\r\n",
    "\r\n",
    "ReadBackwards()"
   ],
   "outputs": [
    {
     "output_type": "stream",
     "name": "stdout",
     "text": [
      "0\n",
      "10\n",
      "9\n",
      "8\n",
      "7\n",
      "6\n",
      "5\n",
      "4\n",
      "3\n",
      "2\n",
      "1\n"
     ]
    }
   ],
   "metadata": {}
  }
 ],
 "metadata": {
  "orig_nbformat": 4,
  "language_info": {
   "name": "python",
   "version": "3.9.7",
   "mimetype": "text/x-python",
   "codemirror_mode": {
    "name": "ipython",
    "version": 3
   },
   "pygments_lexer": "ipython3",
   "nbconvert_exporter": "python",
   "file_extension": ".py"
  },
  "kernelspec": {
   "name": "python3",
   "display_name": "Python 3.9.7 64-bit ('venv': venv)"
  },
  "interpreter": {
   "hash": "30fc671ee31657b89ca62a1a3aacc4bc1c1d3331bade81200542509f75df2d34"
  }
 },
 "nbformat": 4,
 "nbformat_minor": 2
}