{
 "cells": [
  {
   "cell_type": "markdown",
   "metadata": {},
   "source": [
    "## Задачи на циклы\n",
    "\n",
    "*Задачи, отмеченные (\\*\\) являются обязательными для выполнения. Задачи без такого символа - не обязательные, их можно не отправлять. Но рекомендуется их делать тем, кто пока не знаком с синтаксисом языка, чтобы облегчить себе решение других задач.*\n"
   ]
  },
  {
   "cell_type": "markdown",
   "metadata": {},
   "source": [
    "**Задача 1. Список квадратов.** По данному целому числу N распечатайте все квадраты натуральных чисел, не превосходящие N, в порядке возрастания. \n"
   ]
  },
  {
   "cell_type": "code",
   "execution_count": null,
   "metadata": {},
   "outputs": [],
   "source": []
  },
  {
   "cell_type": "markdown",
   "metadata": {},
   "source": [
    "**Задача 2. Наименьший делитель.** Дано целое число, не меньшее 2. Выведите его наименьший натуральный делитель, отличный от 1. "
   ]
  },
  {
   "cell_type": "code",
   "execution_count": null,
   "metadata": {},
   "outputs": [],
   "source": []
  },
  {
   "cell_type": "markdown",
   "metadata": {},
   "source": [
    "**(*) Задача 3. Точная степень двойки.** Дано натуральное число N. Выведите слово YES, если число N является точной степенью двойки, или слово NO в противном случае. Операцией возведения в степень пользоваться нельзя! \n"
   ]
  },
  {
   "cell_type": "code",
   "execution_count": 2,
   "metadata": {},
   "outputs": [
    {
     "name": "stdout",
     "output_type": "stream",
     "text": [
      "NO\n"
     ]
    }
   ],
   "source": [
    "def degreeoftwo():\n",
    "\n",
    "    n = int(input())\n",
    "\n",
    "    if n == 1:\n",
    "        print('YES')\n",
    "        return\n",
    "\n",
    "    while n%2==0:\n",
    "        n= n//2\n",
    "        if n==1:\n",
    "            print('YES')\n",
    "            return\n",
    "    print('NO')\n",
    "    \n",
    "degreeoftwo()"
   ]
  },
  {
   "cell_type": "markdown",
   "metadata": {},
   "source": [
    "**(*) Задача 4. Пробежка.** В первый день спортсмен пробежал x километров, а затем он каждый день увеличивал пробег на 10% от предыдущего значения. По данному числу y определите номер дня, на который пробег спортсмена составит не менее y километров. \n",
    "\n",
    "Формат ввода: действительные числа x, y\n",
    "\n",
    "Формат вывода: натуральное число\n"
   ]
  },
  {
   "cell_type": "code",
   "execution_count": 9,
   "metadata": {},
   "outputs": [
    {
     "name": "stdout",
     "output_type": "stream",
     "text": [
      "6\n"
     ]
    }
   ],
   "source": [
    "# Сделал\n",
    "\n",
    "x = int(input())\n",
    "y = int(input())\n",
    "\n",
    "days = 1\n",
    "\n",
    "while x < y:\n",
    "    days+=1\n",
    "    x*=1.1\n",
    "print(days)"
   ]
  },
  {
   "cell_type": "markdown",
   "metadata": {},
   "source": [
    "**Задача 5. Максимум.** Последовательность состоит из натуральных чисел и завершается числом 0. Определите значение наибольшего элемента последовательности. "
   ]
  },
  {
   "cell_type": "code",
   "execution_count": null,
   "metadata": {},
   "outputs": [],
   "source": []
  },
  {
   "cell_type": "markdown",
   "metadata": {},
   "source": [
    "**Задача 6. Больше предыдущего.**  Последовательность состоит из натуральных чисел и завершается числом 0. Определите, сколько элементов этой последовательности больше предыдущего элемента. "
   ]
  },
  {
   "cell_type": "code",
   "execution_count": null,
   "metadata": {},
   "outputs": [],
   "source": []
  },
  {
   "cell_type": "markdown",
   "metadata": {},
   "source": [
    "**(*) Задача 7. Максимум-2.** Последовательность состоит из натуральных чисел и завершается числом 0. Определите значение второго по величине элемента в этой последовательности, то есть элемента, который будет наибольшим, если из последовательности удалить наибольший элемент. "
   ]
  },
  {
   "cell_type": "code",
   "execution_count": 7,
   "metadata": {},
   "outputs": [
    {
     "name": "stdout",
     "output_type": "stream",
     "text": [
      "1 2 3 4 5 6 7 0\n",
      "6\n"
     ]
    }
   ],
   "source": [
    "arr = input().split()\n",
    "\n",
    "max1 = 0\n",
    "max2 = 0\n",
    "\n",
    "for i in range(len(arr)):\n",
    "    if int(arr[i]) > max1:\n",
    "        max2 = max1\n",
    "        max1 = int(arr[i])\n",
    "    elif int(arr[i]) > max2:\n",
    "        max2 = int(arr[i])\n",
    "\n",
    "print(max2)"
   ]
  },
  {
   "cell_type": "markdown",
   "metadata": {},
   "source": [
    "**(*) Задача 8. Число максимумов.** Последовательность состоит из натуральных чисел и завершается числом 0. Определите, какое количество элементов этой последовательности, равны ее наибольшему элементу. \n"
   ]
  },
  {
   "cell_type": "code",
   "execution_count": 10,
   "metadata": {},
   "outputs": [
    {
     "name": "stdout",
     "output_type": "stream",
     "text": [
      "2\n"
     ]
    }
   ],
   "source": [
    "#Оставил один цикл\n",
    "\n",
    "arr = list(map(int, input().split()))\n",
    "\n",
    "max1 = 0\n",
    "count = 0\n",
    "for i in range(len(arr)):\n",
    "    if arr[i] > max1:\n",
    "        max1 = arr[i]\n",
    "        count = 1\n",
    "    elif arr[i] == max1:\n",
    "        count+=1\n",
    "\n",
    "print(count)"
   ]
  },
  {
   "cell_type": "markdown",
   "metadata": {},
   "source": [
    "**Задача 9. Число Фибоначчи.** Последовательность Фибоначчи определяется так:\n",
    "[ F_0=0, F_1=1, ..., F_n=F_n-1+F_n-2. ]\n",
    "По данному числу n определите n-е число Фибоначчи Fn.\n"
   ]
  },
  {
   "cell_type": "code",
   "execution_count": null,
   "metadata": {},
   "outputs": [],
   "source": []
  },
  {
   "cell_type": "markdown",
   "metadata": {},
   "source": [
    "**(*) Задача 10. Обращение числа.** Переверните число, т.е. выведите цифры заданного числа в обратном порядке."
   ]
  },
  {
   "cell_type": "code",
   "execution_count": 31,
   "metadata": {},
   "outputs": [
    {
     "name": "stdout",
     "output_type": "stream",
     "text": [
      "654321\n"
     ]
    }
   ],
   "source": [
    "#Переделал на while и число. Оставил функцию, потому что так бы в следующем задании пришлось бы переписывать код второй раз такой же\n",
    "\n",
    "def reverse(number=None):\n",
    "    if number == None:\n",
    "        number = int(input())\n",
    "\n",
    "    if number%10 == 0:\n",
    "        return 0\n",
    "\n",
    "    divisoner = 1\n",
    "\n",
    "    while divisoner*10 < number:\n",
    "        divisoner *= 10\n",
    "\n",
    "\n",
    "    outnumber = 0\n",
    "    mult = 1\n",
    "\n",
    "    while divisoner > 0:\n",
    "        outnumber += (number//divisoner)*mult\n",
    "        mult *= 10\n",
    "        number %= divisoner\n",
    "        divisoner //= 10\n",
    "    return(outnumber)\n",
    "\n",
    "print(reverse())\n"
   ]
  },
  {
   "cell_type": "markdown",
   "metadata": {},
   "source": [
    "**(*) Задача 11. Количество палиндромов.** Назовем число палиндромом, если оно не меняется при перестановке его цифр в обратном порядке. Напишите программу, которая по заданному числу K выводит количество натуральных палиндромов, не превосходящих K. \n",
    "Пример: Для K=1 вывод  1, для K=100 вывод 18, для K=10 вывод  9.\n"
   ]
  },
  {
   "cell_type": "code",
   "execution_count": 44,
   "metadata": {},
   "outputs": [
    {
     "name": "stdout",
     "output_type": "stream",
     "text": [
      "108\n"
     ]
    }
   ],
   "source": [
    "k = int(input())\n",
    "\n",
    "count = 0\n",
    "i = 1\n",
    "while i <= k:\n",
    "    if i == reverse(i):\n",
    "        count+=1\n",
    "    i+=1\n",
    "\n",
    "print(count)"
   ]
  },
  {
   "cell_type": "markdown",
   "metadata": {},
   "source": [
    "**(*) Задача 12. Монотонный фрагмент.** Дана последовательность натуральных чисел, завершающаяся числом 0. Определите наибольшую длину монотонного фрагмента последовательности (то есть такого фрагмента, где все элементы либо больше предыдущего, либо меньше). \n"
   ]
  },
  {
   "cell_type": "code",
   "execution_count": 11,
   "metadata": {},
   "outputs": [
    {
     "name": "stdout",
     "output_type": "stream",
     "text": [
      "1 2 3 2\n",
      "3\n"
     ]
    }
   ],
   "source": [
    "arr = input().split()\n",
    "\n",
    "maxmonot = 0\n",
    "\n",
    "previous = int(arr[0])\n",
    "\n",
    "count = 1\n",
    "\n",
    "up = True\n",
    "\n",
    "for i in range(1, len(arr)):\n",
    "    # print(previous, int(arr[i]))\n",
    "\n",
    "    if previous < int(arr[i]):\n",
    "        if up:\n",
    "            count+=1\n",
    "        else:\n",
    "            if maxmonot<count:\n",
    "                maxmonot = count\n",
    "            count = 2\n",
    "            up = True\n",
    "\n",
    "    elif previous > int(arr[i]):\n",
    "        if not up:\n",
    "            count+=1\n",
    "        else:\n",
    "            if maxmonot<count:\n",
    "                maxmonot = count\n",
    "            count = 2\n",
    "            up = False\n",
    "    previous = int(arr[i])\n",
    "\n",
    "print(max(count, maxmonot))"
   ]
  },
  {
   "cell_type": "markdown",
   "metadata": {},
   "source": [
    "**(*) Задача 13. Наименьшее расстояние между локальными максимумами.** Определите наименьшее расстояние между двумя локальными максимумами последовательности натуральных чисел, завершающейся числом 0. Локальным максимумом называется такое число в последовательности, которое больше своих соседей. Если в последовательности нет двух локальных максимумов, выведите число 0. Начальное и конечное значение при этом локальными максимумами не считаются. \n",
    "\n",
    "Пример: \n",
    "\n",
    "Ввод: 1 2 3 0                   Вывод:  1 2 1 1 2 1 2 1 0\n",
    "        \n",
    "Ввод: 1 2 1 1 2 1 2 1 0         Вывод: 0\n"
   ]
  },
  {
   "cell_type": "code",
   "execution_count": 32,
   "metadata": {},
   "outputs": [
    {
     "name": "stdout",
     "output_type": "stream",
     "text": [
      "2\n"
     ]
    }
   ],
   "source": [
    "#Переделал\n",
    "\n",
    "arr = list(map(int, input().split()))\n",
    "\n",
    "i = 1\n",
    "up = True\n",
    "lastmaxindex = 0\n",
    "minlenght = len(arr)\n",
    "\n",
    "while i<len(arr):\n",
    "    \n",
    "    if (arr[i]<=arr[i-1] and up==True):\n",
    "        # print(lastmaxindex, i-1)\n",
    "        if i-1 - lastmaxindex < minlenght and lastmaxindex!=0:\n",
    "            minlenght = i -1 - lastmaxindex\n",
    "        lastmaxindex = i-1\n",
    "        up = not up\n",
    "    elif (arr[i]>=arr[i-1] and up==False):\n",
    "        up = not up\n",
    "    i+=1\n",
    "\n",
    "if minlenght == len(arr):\n",
    "    print(0)\n",
    "else:\n",
    "    print(minlenght)"
   ]
  },
  {
   "cell_type": "code",
   "execution_count": null,
   "metadata": {},
   "outputs": [],
   "source": []
  }
 ],
 "metadata": {
  "interpreter": {
   "hash": "30fc671ee31657b89ca62a1a3aacc4bc1c1d3331bade81200542509f75df2d34"
  },
  "kernelspec": {
   "display_name": "Python 3.9.7 64-bit ('venv': venv)",
   "name": "python3"
  },
  "language_info": {
   "codemirror_mode": {
    "name": "ipython",
    "version": 3
   },
   "file_extension": ".py",
   "mimetype": "text/x-python",
   "name": "python",
   "nbconvert_exporter": "python",
   "pygments_lexer": "ipython3",
   "version": "3.9.7"
  }
 },
 "nbformat": 4,
 "nbformat_minor": 5
}
