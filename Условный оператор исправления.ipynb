{
 "cells": [
  {
   "cell_type": "markdown",
   "id": "d1befc3e-281a-4741-be5c-731f8389fded",
   "metadata": {},
   "source": [
    "**(*) Задача 3. Ход короля.** Шахматный король ходит по горизонтали, вертикали и диагонали, но только на 1 клетку. Даны две различные клетки шахматной доски, определите, может ли король попасть с первой клетки на вторую одним ходом.\n",
    "\n",
    "Формат ввода: Программа получает на вход четыре числа от 1 до 8 каждое, задающие номер столбца и номер строки сначала для первой клетки, потом для второй клетки.\n",
    "\n",
    "Формат вывода: Программа должна вывести YES, если из первой клетки ходом короля можно попасть во вторую или NO в противном случае.\n",
    "\n"
   ]
  },
  {
   "cell_type": "code",
   "execution_count": 5,
   "id": "cd36ec22-a1a5-485d-8f08-ec3ddd964ca3",
   "metadata": {},
   "outputs": [
    {
     "name": "stdout",
     "output_type": "stream",
     "text": [
      "YES\n"
     ]
    }
   ],
   "source": [
    "x1 = int(input())\n",
    "y1 = int(input())\n",
    "x2 = int(input())\n",
    "y2 = int(input())\n",
    "\n",
    "#>= на <= поменял\n",
    "if abs(x2 - x1) <= 1 and abs(y2 - y1) <= 1:\n",
    "    print('YES')\n",
    "else:\n",
    "    print('NO')"
   ]
  },
  {
   "cell_type": "markdown",
   "id": "2b7622e7-a51f-4937-9be4-fced2c22d763",
   "metadata": {},
   "source": [
    "**(*) Задача 5. Цвет клеток.** Заданы две клетки шахматной доски. Если они покрашены в один цвет, то выведите слово YES, а если в разные цвета – то NO.\n",
    "\n",
    "Формат ввода: Вводятся 4 числа - координаты клеток..\n",
    "Формат вывода: Программа должна вывести YES или NO\n"
   ]
  },
  {
   "cell_type": "code",
   "execution_count": 7,
   "id": "573174ae-3b03-4f04-a152-32792b82625b",
   "metadata": {},
   "outputs": [
    {
     "name": "stdout",
     "output_type": "stream",
     "text": [
      "YES\n"
     ]
    }
   ],
   "source": [
    "x1 = int(input())\n",
    "y1 = int(input())\n",
    "x2 = int(input())\n",
    "y2 = int(input())\n",
    "\n",
    "#Получилось вообще одно условие\n",
    "if abs(x2 - x1) % 2 == abs(y2 - y1) % 2:\n",
    "    print('YES')\n",
    "else:\n",
    "    print('NO')"
   ]
  },
  {
   "cell_type": "markdown",
   "id": "e4f59559-f935-4df1-ae08-4833f65e07a2",
   "metadata": {},
   "source": [
    "**(*) Задача 6. Шоколадка.** Шоколадка имеет вид прямоугольника, разделенного на n × m долек. Шоколадку можно один раз разломить по прямой на две части. Определите, можно ли таким образом отломить от шоколадки ровно k долек.\n",
    "\n",
    "Формат ввода: Программа получает на вход три числа: n, m, k.\n",
    "\n",
    "Формат вывода: Программа должна вывести YES или NO\n"
   ]
  },
  {
   "cell_type": "code",
   "execution_count": 20,
   "id": "c60aa068-a411-49c4-81db-4e466cc7ec81",
   "metadata": {},
   "outputs": [
    {
     "name": "stdout",
     "output_type": "stream",
     "text": [
      "NO\n"
     ]
    }
   ],
   "source": [
    "n = int(input())\n",
    "m = int(input())\n",
    "k = int(input())\n",
    "\n",
    "#Теперь нельзя\n",
    "if ((n * m - k) % m == 0 or (m * n - k) % n == 0) and n*m>=k:\n",
    "    print('YES')\n",
    "else:\n",
    "    print('NO')"
   ]
  },
  {
   "cell_type": "markdown",
   "id": "cb7f766a-97d2-41cb-9a3c-9e7771595d5f",
   "metadata": {},
   "source": [
    "**(доп.) Задача 10. Коробки.** Есть две коробки, первая размером A1 × B1 × C1, вторая размером A2 × B2 × C2. Определите, можно ли разместить одну из этих коробок внутри другой, при условии, что поворачивать коробки можно только на 90 градусов вокруг ребер.\n",
    "\n",
    "Формат ввода: Программа получает на вход числа A1, B1, C1, A2, B2, C2. \n",
    "\n",
    "Формат вывода: Программа должна вывести одну из следующих строчек:\n",
    "Boxes are equal, если коробки одинаковые,\n",
    "The first box is smaller than the second one, если первая коробка может быть положена во вторую,\n",
    "The first box is larger than the second one, если вторая коробка может быть положена в первую,\n",
    "Boxes are incomparable, во всех остальных случаях. \n"
   ]
  },
  {
   "cell_type": "code",
   "execution_count": 24,
   "id": "4059723b-c776-4d42-97fa-85da9852643c",
   "metadata": {},
   "outputs": [
    {
     "name": "stdout",
     "output_type": "stream",
     "text": [
      "The first box is larger than the second one\n"
     ]
    }
   ],
   "source": [
    "import itertools\n",
    "\n",
    "A1 = int(input())\n",
    "B1 = int(input())\n",
    "C1 = int(input())\n",
    "A2 = int(input())\n",
    "B2 = int(input())\n",
    "C2 = int(input())\n",
    "\n",
    "dimensions1 = [A1, B1, C1]\n",
    "dimensions2 = [A2, B2, C2]\n",
    "\n",
    "possible = list(itertools.permutations([A1, B1, C1]))\n",
    "#print(possible)\n",
    "\n",
    "#Я просто видимо смотрел только на главное условие \n",
    "answer = 'Boxes are incompatible'\n",
    "\n",
    "for dimensions in possible:\n",
    "    if (dimensions[0] == A2 and dimensions[1] == B2 and dimensions[2] == C2):\n",
    "        answer = 'Boxes are equal'\n",
    "        break\n",
    "    elif (dimensions[0] < A2 and dimensions[1] < B2 and dimensions[2] < C2):\n",
    "        answer = 'The first box is smaller than the second one'\n",
    "        break\n",
    "    elif(dimensions[0] > A2 and dimensions[1] > B2 and dimensions[2] > C2):\n",
    "        answer = 'The first box is larger than the second one'\n",
    "        break\n",
    "\n",
    "print(answer)"
   ]
  },
  {
   "cell_type": "markdown",
   "id": "c7cce83f-3ab6-41ad-a9dd-78b3dbd02272",
   "metadata": {},
   "source": [
    "**(*) Задача 11.** Котлеты. На сковородку одновременно можно положить k котлет. Каждую котлету нужно с каждой стороны обжаривать m минут непрерывно. За какое наименьшее время удастся поджарить с обеих сторон n котлет?\n",
    "\n",
    "Формат ввода: Программа получает на вход три числа: k, m, n. \n",
    "\n",
    "Формат вывода: наименьшее количество минут\n"
   ]
  },
  {
   "cell_type": "code",
   "execution_count": 45,
   "id": "ee0a812e-b034-400c-9673-623099acc117",
   "metadata": {},
   "outputs": [
    {
     "name": "stdout",
     "output_type": "stream",
     "text": [
      "8\n"
     ]
    }
   ],
   "source": [
    "k = int(input())\n",
    "m = int(input())\n",
    "n = int(input())\n",
    "\n",
    "# (n % m) -> (n % k)\n",
    "print((n // k + 1 - (0 ** (n % k))) * 2 * m)"
   ]
  },
  {
   "cell_type": "markdown",
   "id": "74e48337-82d7-4bdc-a6a2-0e1d91ae288f",
   "metadata": {},
   "source": [
    "**(*) Задача 12. Спички.** Вдоль прямой выложены три спички. Необходимо переложить одну из них так, чтобы при поджигании любой спички сгорали все три. Для того чтобы огонь переходил с одной спички на другую, необходимо чтобы эти спички соприкасались (хотя бы концами).\n",
    "Требуется написать программу, определяющую, какую из трех спичек необходимо переместить.\n",
    "\n",
    "Формат ввода: Вводятся шесть целых чисел через пробел: l1, r1, l2, r2, l3, r3 –– координаты первой, второй и третьей спичек соответственно (). Каждая спичка описывается координатами левого и правого концов по горизонтальной оси OX.\n",
    "\n",
    "Формат вывода: Выведите номер искомой спички. Если возможных ответов несколько, то выведите наименьший из них. В случае, когда нет необходимости перемещать какую-либо спичку, выведите 0. Если же требуемого результата достигнуть невозможно, то выведите -1.\n",
    "\n",
    "Пример:       \n",
    "\n",
    "Ввод:   0  2  4  5  3  6         Вывод: 1\n",
    "\n",
    "Ввод: 1  2  9  10  12  20        Вывод: 3\n",
    "              \n",
    "Ввод:  1  5  0  1   4  8         Вывод:  0\n"
   ]
  },
  {
   "cell_type": "code",
   "execution_count": 29,
   "id": "2471c974-e677-4039-8c82-e0dbfe0df1f9",
   "metadata": {},
   "outputs": [
    {
     "name": "stdout",
     "output_type": "stream",
     "text": [
      "1\n"
     ]
    }
   ],
   "source": [
    "def Spichki():\n",
    "    #Добавил -1 и переделал ввод\n",
    "    inp = input().split()\n",
    "    l1 = int(inp[0])\n",
    "    r1 = int(inp[1])\n",
    "    l2 = int(inp[2])\n",
    "    r2 = int(inp[3])\n",
    "    l3 = int(inp[4])\n",
    "    r3 = int(inp[5])\n",
    "\n",
    "    conn = [(l1, r1), (l2, r2), (l3, r3)]\n",
    "    if isconnectedthree(conn):\n",
    "        return 0\n",
    "    else:\n",
    "\n",
    "        dif = r1 - l1\n",
    "        if l2 < l3:\n",
    "            newconn = [(r2, r2 + dif), (l2, r2), (l3, r3)]\n",
    "            if (isconnectedthree(newconn)):\n",
    "                return 1\n",
    "        else:\n",
    "            newconn = [(r3, r3 + dif), (l2, r2), (l3, r3)]\n",
    "            if (isconnectedthree(newconn)):\n",
    "                return 1\n",
    "\n",
    "        dif = r2 - l2\n",
    "        if l1 < l3:\n",
    "            newconn = [(r1, r1 + dif), (l1, r1), (l3, r3)]\n",
    "            if (isconnectedthree(newconn)):\n",
    "                return 2\n",
    "        else:\n",
    "            newconn = [(r3, r3 + dif), (l1, r1), (l3, r3)]\n",
    "            if (isconnectedthree(newconn)):\n",
    "                return 2\n",
    "\n",
    "        dif = r3 - l3\n",
    "        if l1 < l2:\n",
    "            newconn = [(r1, r1 + dif), (l1, r1), (l2, r2)]\n",
    "            if (isconnectedthree(newconn)):\n",
    "                return 3\n",
    "        else:\n",
    "            newconn = [(r2, r2 + dif), (l1, r1), (l2, r2)]\n",
    "            if (isconnectedthree(newconn)):\n",
    "                return 3\n",
    "\n",
    "        return -1\n",
    "\n",
    "\n",
    "def isconnected(s1, s2):\n",
    "    if s1[0] <= s2[0] <= s1[1] or s2[0] <= s1[0] <= s2[1]:\n",
    "        return True\n",
    "    else:\n",
    "        return False\n",
    "\n",
    "\n",
    "def isconnectedthree(conn):\n",
    "    if (isconnected(conn[0], conn[1]) and isconnected(conn[1], conn[2]) or\n",
    "            isconnected(conn[0], conn[1]) and isconnected(conn[0], conn[2]) or\n",
    "            isconnected(conn[0], conn[2]) and isconnected(conn[1], conn[2])):\n",
    "        return True\n",
    "    else:\n",
    "        return False\n",
    "    \n",
    "print(Spichki())"
   ]
  },
  {
   "cell_type": "code",
   "execution_count": null,
   "id": "6d433c54",
   "metadata": {},
   "outputs": [],
   "source": []
  }
 ],
 "metadata": {
  "interpreter": {
   "hash": "30fc671ee31657b89ca62a1a3aacc4bc1c1d3331bade81200542509f75df2d34"
  },
  "kernelspec": {
   "display_name": "Python 3.9.7 64-bit ('venv': venv)",
   "name": "python3"
  },
  "language_info": {
   "codemirror_mode": {
    "name": "ipython",
    "version": 3
   },
   "file_extension": ".py",
   "mimetype": "text/x-python",
   "name": "python",
   "nbconvert_exporter": "python",
   "pygments_lexer": "ipython3",
   "version": "3.9.7"
  }
 },
 "nbformat": 4,
 "nbformat_minor": 5
}
